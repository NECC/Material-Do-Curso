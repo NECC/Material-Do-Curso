{
  "nbformat": 4,
  "nbformat_minor": 0,
  "metadata": {
    "colab": {
      "name": "TP4.ipynb",
      "provenance": [],
      "collapsed_sections": []
    },
    "kernelspec": {
      "name": "python3",
      "display_name": "Python 3"
    },
    "language_info": {
      "name": "python"
    }
  },
  "cells": [
    {
      "cell_type": "markdown",
      "source": [
        "## Lógica Computacional: 21/22## \n",
        "---\n",
        "##Trabalho 4## \n",
        "\n",
        "$Grupo$ $7$ \n",
        "\n",
        "*   David José de Sousa Machado (A91665)\n",
        "*   Ivo Miguel Gomes Lima (A90214)\n",
        "---\n",
        "#Inicialização\n",
        "\n",
        "Para a resolução destes exercícios utilizamos as bibliotecas:\n",
        "- [Python Z3Py](https://ericpony.github.io/z3py-tutorial/guide-examples.htm)\n",
        "- [Satisfiability Modulo Theory](https://pysmt.readthedocs.io/en/latest/)"
      ],
      "metadata": {
        "id": "R7pa0a4jjecc"
      }
    },
    {
      "cell_type": "code",
      "source": [
        "!pip install z3-solver\n",
        "!pip install PySMT"
      ],
      "metadata": {
        "id": "hd9vybxXqvNW"
      },
      "execution_count": null,
      "outputs": []
    },
    {
      "cell_type": "code",
      "source": [
        "from z3 import *\n",
        "import pysmt.shortcuts as ps\n",
        "import pysmt.typing as pt"
      ],
      "metadata": {
        "id": "PzcMxMuQtVW7"
      },
      "execution_count": null,
      "outputs": []
    },
    {
      "cell_type": "markdown",
      "source": [
        "#Contextualização do Problema\n",
        "Considere o seguinte programa, em Python anotado, para multiplicação de dois inteiros de precisão limitada a 16 bits.  \n",
        "\n",
        "```python\n",
        "       assume m >= 0 and n >= 0 and r == 0 and x == m and y == n\n",
        "    0: while y > 0:\n",
        "    1:    if y & 1 == 1: \n",
        "               y , r  = y-1 , r+x\n",
        "    2:    x , y = x<<1  ,  y>>1\n",
        "    3: assert r == m * n\n",
        "```\n",
        "\n",
        "1. Prove por indução a terminação deste programa\n",
        "2. Pretende-se verificar a correção total deste  programa usando a metodologia dos invariantes e a metodologia do *single assignment unfolding*. Para isso, \n",
        "    *   Codifique usando a **LPA** (linguagem de programas anotadas) a forma recursiva deste programa. \n",
        "    *   Proponha o invariante mais fraco que assegure a correção, codifique-o em **SMT** e prove a correção.\n",
        "    *   Construa a definição iterativa do *single assignment unfolding*  usando um parâmetro limite \n",
        "$N$  e aumentando a pré-condição com a condição $$(n < N) \\land (m < N)$$\n",
        "O número de iterações vai ser controlado por este parâmetro $N$"
      ],
      "metadata": {
        "id": "Vb9-8yqfnEri"
      }
    },
    {
      "cell_type": "markdown",
      "source": [
        "# 0. Análise\n",
        "Antes de começámos a resolução codificámos o programa e fizemos print dos valores das variáveis para termos nos ajudar a descobrir o **variante** e o **invariante** do mesmo."
      ],
      "metadata": {
        "id": "cmF-DVDRW-b4"
      }
    },
    {
      "cell_type": "code",
      "source": [
        "def problema(x, y):\n",
        "    r = 0\n",
        "    print(\"x y r\")\n",
        "    print(x, y, r, \"entrada\")\n",
        "\n",
        "    # y >= 0 and x*y+r == n*m\n",
        "    while y > 0:\n",
        "        if y & 1 == 1:\n",
        "            y, r = y-1, r+x\n",
        "            print(x, y, r, \"if\")\n",
        "        x, y = x<<1, y>>1\n",
        "        print(x, y, r, \"while\")\n",
        "    \n",
        "    print(x, y, r, \"final\")\n",
        "    return r\n",
        "\n",
        "problema(2, 3)"
      ],
      "metadata": {
        "id": "hitzoASKu1VQ",
        "colab": {
          "base_uri": "https://localhost:8080/"
        },
        "outputId": "b10512f1-acb9-4246-8f94-d7e589d0d3ad"
      },
      "execution_count": null,
      "outputs": [
        {
          "output_type": "stream",
          "name": "stdout",
          "text": [
            "x y r\n",
            "2 3 0 entrada\n",
            "2 2 2 if\n",
            "4 1 2 while\n",
            "4 0 6 if\n",
            "8 0 6 while\n",
            "8 0 6 final\n"
          ]
        },
        {
          "output_type": "execute_result",
          "data": {
            "text/plain": [
              "6"
            ]
          },
          "metadata": {},
          "execution_count": 27
        }
      ]
    },
    {
      "cell_type": "markdown",
      "source": [
        "# 1. Prove por indução a terminação deste programa\n",
        "\n",
        "Para usarmos indução e provarmos que o programa apresentado termina vamos construir um *FOTS* que o modela. Temos então as variáveis `m`, `n`, `x`, `y`, `r` que irão fazer parte do *FOTS*.\n",
        "\n",
        "Podemos ainda considerar uma variável `pc` que nos indicará em que instrução nos encontramos.\n",
        "\n",
        "Define-se então a função que declara as variáveis:"
      ],
      "metadata": {
        "id": "VfWaBHWGfS2e"
      }
    },
    {
      "cell_type": "code",
      "source": [
        "def declare(i):\n",
        "    return {\n",
        "        \"pc\": Int(\"pc\"+str(i)),\n",
        "        \"m\": BitVec(\"m\"+str(i), 16),\n",
        "        \"n\": BitVec(\"n\"+str(i), 16),\n",
        "        \"x\": BitVec(\"x\"+str(i), 16),\n",
        "        \"y\": BitVec(\"y\"+str(i), 16),\n",
        "        \"r\": BitVec(\"r\"+str(i), 16)\n",
        "    }"
      ],
      "metadata": {
        "id": "_Aidt6julwQH"
      },
      "execution_count": null,
      "outputs": []
    },
    {
      "cell_type": "markdown",
      "source": [
        "Para definirmos o predicado `init` que determina o estado inicial do *FOTS* basta olharmos para a pré-condição do programa que diz \n",
        "`assume m >= 0 and n >= 0 and r == 0 and x == m and y == n`. \n",
        "\n",
        "Portanto o `init` será \n",
        "$$pc == 0 ∧ m \\geq 0 ∧ n \\geq 0 ∧ r == 0 ∧ x == m ∧ y == n$$\n"
      ],
      "metadata": {
        "id": "iXMCE3_BmhxA"
      }
    },
    {
      "cell_type": "code",
      "source": [
        "def init(state):\n",
        "    return And(state[\"pc\"] == 0, state[\"m\"] >= 0, state[\"n\"] >= 0, state[\"r\"] == 0, state[\"x\"] == state[\"m\"], state[\"y\"] == state[\"n\"])"
      ],
      "metadata": {
        "id": "mZwm9lSFnLIa"
      },
      "execution_count": null,
      "outputs": []
    },
    {
      "cell_type": "markdown",
      "source": [
        "Define-se agora a função de transição.\n",
        "\n",
        "Se a variável `pc` tiver o valor 0, chegamos à condição do ciclo, onde podem correr 3 situações:\n",
        "\n",
        "*   Estamos dentro do ciclo e a condição do if é verificada fazendo-nos entrar no corpo do mesmo.\n",
        "$$ pc == 0\\land\\ pc' == 1 \\land\\ m' == m \\land\\ n' == n \\land\\ x' == x \\land\\ y' == y \\land\\ r' == r \\land\\ y > 0 \\land\\ y\\ \\&\\ 1 == 1$$\n",
        "*   Estamos dentro do ciclo mas a condição if não é verificada levando-nos a não entrar no corpo do ciclo.\n",
        "$$ pc == 0\\land\\ pc' == 2 \\land\\ m' == m \\land\\ n' == n \\land\\ x' == x \\land\\ y' == y \\land\\ r' == r \\land\\ y > 0 \\land\\ y\\ \\&\\ 1 \\neq 1 $$\n",
        "*   Ir para o fim do programa caso a condição de ciclo seja falsa.\n",
        "$$ pc == 0\\land\\ pc' == 3 \\land\\ m' == m \\land\\ n' == n \\land\\ x' == x \\land\\ y' == y \\land\\ r' == r \\land\\ y \\leq 0 $$\n",
        "\n",
        "Se a variável `pc` tiver o valor 1, estamos dentro do ciclo, onde ocorre a alteração das variáveis `y` e `r`.\n",
        "$$pc == 1\\land\\ pc' == 2 \\land\\ m' == m \\land\\ n' == n \\land\\ x' == x \\land\\ y' == y - 1 \\land\\ r' == r + x $$\n",
        "\n",
        "Se a variável `pc` tiver o valor 2, temos apenas de executar as últimas instruções do ciclo e colocar o valor de `pc` a 0, para testarmos novamente a condição de ciclo.\n",
        "$$ pc == 2\\land\\ pc' == 0 \\land\\ m' == m \\land\\ n' == n \\land\\ x' \\ll 1 \\land\\ y' == y \\gg 1 \\land\\ r' == r $$\n",
        "\n",
        "Se a variável `pc` tiver o valor 3, temos de adicionar o lacete final, em que o estado final transita para ele próprio.\n",
        "$$ pc == 3\\land\\ pc' == 3 \\land\\ m' == m \\land\\ n' == n \\land\\ x' == x \\land\\ y' == y \\land\\ r' == r \\land\\ y \\leq 0 $$\n"
      ],
      "metadata": {
        "id": "TIulTifonOl1"
      }
    },
    {
      "cell_type": "code",
      "source": [
        "def trans(curr,prox):\n",
        "    preserve = lambda x : prox[x] == curr[x]\n",
        "    preserveAll = And(preserve(\"m\"), preserve(\"n\"), preserve(\"x\"), preserve(\"y\"), preserve(\"r\"))\n",
        "\n",
        "    t01 = And(curr[\"pc\"] == 0, prox[\"pc\"] == 1, preserveAll, curr[\"y\"] > 0, curr[\"y\"] & 1 == 1)\n",
        "    t02 = And(curr[\"pc\"] == 0, prox[\"pc\"] == 2, preserveAll, curr[\"y\"] > 0, curr[\"y\"] & 1 != 1)\n",
        "    t03 = And(curr[\"pc\"] == 0, prox[\"pc\"] == 3, preserveAll, curr[\"y\"] <= 0)\n",
        "    t12 = And(curr[\"pc\"] == 1, prox[\"pc\"] == 2, preserve(\"m\"), preserve(\"n\"), preserve(\"x\"), prox[\"y\"] == curr[\"y\"] - 1, prox[\"r\"] == curr[\"r\"] + curr[\"x\"])\n",
        "    t20 = And(curr[\"pc\"] == 2, prox[\"pc\"] == 0, preserve(\"m\"), preserve(\"n\"), prox[\"x\"] == curr[\"x\"] << 1, prox[\"y\"] == curr[\"y\"] >> 1, preserve(\"r\"))\n",
        "    t33 = And(curr[\"pc\"] == 3, prox[\"pc\"] == 3, preserveAll)\n",
        "\n",
        "    return Or(t01, t02, t03, t12, t20, t33)\n",
        "\n",
        "# transição para quando a condição do if está separada do seu corpo\n",
        "def transAlt(curr,prox):\n",
        "    t01 = And(curr[\"pc\"] == 0, prox[\"pc\"] == 1, curr[\"y\"] > 0, prox[\"x\"] == curr[\"x\"], prox[\"y\"] == curr[\"y\"], prox[\"r\"] == curr[\"r\"])\n",
        "    t04 = And(curr[\"pc\"] == 0, prox[\"pc\"] == 4, curr[\"y\"] <= 0, prox[\"x\"] == curr[\"x\"], prox[\"y\"] == curr[\"y\"], prox[\"r\"] == curr[\"r\"])\n",
        "    t12 = And(curr[\"pc\"] == 1, prox[\"pc\"] == 2, curr[\"y\"] & BitVecVal(1,16) == BitVecVal(1,16), prox[\"x\"] == curr[\"x\"], prox[\"y\"] == curr[\"y\"], prox[\"r\"] == curr[\"r\"])\n",
        "    t13 = And(curr[\"pc\"] == 1, prox[\"pc\"] == 3, curr[\"y\"] & BitVecVal(1,16) != BitVecVal(1,16), prox[\"x\"] == curr[\"x\"], prox[\"y\"] == curr[\"y\"], prox[\"r\"] == curr[\"r\"])\n",
        "    t23 = And(curr[\"pc\"] == 2, prox[\"pc\"] == 3, prox[\"x\"] == curr[\"x\"], prox[\"y\"] == curr[\"y\"] - BitVecVal(1,16), prox[\"r\"] == curr[\"r\"] + curr[\"x\"])\n",
        "    t30 = And(curr[\"pc\"] == 3, prox[\"pc\"] == 0, prox[\"x\"] == curr[\"x\"] << BitVecVal(1,16), prox[\"y\"] == curr[\"y\"] >> BitVecVal(1,16), prox[\"r\"] == curr[\"r\"])\n",
        "    t44 = And(curr[\"pc\"] == 4, prox[\"pc\"] == 4, prox[\"x\"] == curr[\"x\"], prox[\"y\"] == curr[\"y\"], prox[\"r\"] == curr[\"r\"])\n",
        "\n",
        "    return Or(t01, t04, t12, t13, t23, t30, t44)"
      ],
      "metadata": {
        "id": "SODxgJSLfpQW"
      },
      "execution_count": null,
      "outputs": []
    },
    {
      "cell_type": "markdown",
      "source": [
        "Antes de utilizamos a indução para demonstrar que o programa termina. Devemos começar por encontrar um **variante** $V$ que satisfaça as seguintes condições:\n",
        "\n",
        "*   Ser sempre positivo, ou seja, $V_s \\geq 0$\n",
        "*   O variante atinge o valor de 0 ou é estritamente descrescente, isto é , $\\forall_s' \\cdot trans(s,s') \\rightarrow (V_{s'} < V_s \\lor V_{s'} = 0) $\n",
        "*   Em 0 o variante verifica $\\phi$, temos portanto que $V_s = 0 → \\phi_s$ sendo o $\\phi$ a chegada à pós-condição.\n",
        "\n",
        "Como vamos queremos uma propriedade *liveness* vamos utilizar a `lookahead`, acabamos por relaxar a 2º condição, permitindo que o **variante** diminua de 3 em 3 transições. Consideramos um `lookahead` de 3 pois é o valor que nos permite *saltar* o corpo do ciclo na última iteração. \n",
        "\n",
        "Após a análise das condições podemos considerar que o **variante** $V$ do ciclo será:\n",
        "$$V_s =  y_s - pc_s +3$$\n",
        "\n",
        "De seguida apresentamos as codificações do variante assim como as condições a serem verificadas."
      ],
      "metadata": {
        "id": "utIeGFkUrExb"
      }
    },
    {
      "cell_type": "code",
      "source": [
        "def variante(state):\n",
        "    return BV2Int(state[\"y\"]) + 3 - state[\"pc\"]"
      ],
      "metadata": {
        "id": "RguNmAeMrOgs"
      },
      "execution_count": null,
      "outputs": []
    },
    {
      "cell_type": "markdown",
      "source": [
        "Condição de ser sempre positivo."
      ],
      "metadata": {
        "id": "Yzlg73krrYP6"
      }
    },
    {
      "cell_type": "code",
      "source": [
        "def nao_negativo(state):\n",
        "    return (variante(state) >= 0)"
      ],
      "metadata": {
        "id": "ZB9MxpsQrU70"
      },
      "execution_count": null,
      "outputs": []
    },
    {
      "cell_type": "markdown",
      "source": [
        "Condição do variante ser estritamente descrescente ou atingir o valor de 0.\n"
      ],
      "metadata": {
        "id": "pQfecuNFsBu1"
      }
    },
    {
      "cell_type": "code",
      "source": [
        "def decrescente(state):\n",
        "    prox1 = declare(-1)\n",
        "    prox2 = declare(-2)\n",
        "    prox3 = declare(-3)\n",
        "\n",
        "    decresce = variante(prox3) < variante(state)\n",
        "    zero = variante(prox3) == 0\n",
        "\n",
        "    formula = Implies(\n",
        "        And(trans(state, prox1), trans(prox1, prox2), trans(prox2, prox3)),\n",
        "        Or(zero, decresce)\n",
        "    )\n",
        "\n",
        "    return ForAll(list(prox1.values()) + list(prox2.values()) + list(prox3.values()), formula)"
      ],
      "metadata": {
        "id": "bNeRtpPi8ot7"
      },
      "execution_count": null,
      "outputs": []
    },
    {
      "cell_type": "markdown",
      "source": [
        "Quando o variante chega a 0 verificamos que terminamos o ciclo.\n",
        "\n"
      ],
      "metadata": {
        "id": "HBP1D82Yr8Ex"
      }
    },
    {
      "cell_type": "code",
      "source": [
        "def utilidade(state):\n",
        "    return Implies(variante(state) == 0, state[\"pc\"] == 3)"
      ],
      "metadata": {
        "id": "IUM6GoGKr1p6"
      },
      "execution_count": null,
      "outputs": []
    },
    {
      "cell_type": "markdown",
      "source": [
        "Depois da definição de todas estas condições podemos finalmente provar por indução a válidade das mesmas através do `kinduction_always`."
      ],
      "metadata": {
        "id": "iCwAd0HyxC-b"
      }
    },
    {
      "cell_type": "code",
      "source": [
        "def dump_die(m, state, k):\n",
        "    for i in range(k):\n",
        "        print(\"i =\", i)\n",
        "        for v in state[i]:\n",
        "            print(v, \"=\", m[state[i][v]])\n",
        "        print()\n",
        "    print()\n",
        "\n",
        "def kinduction_always(declare,init,trans,inv,k):\n",
        "    s = Solver()\n",
        "    state = {i: declare(i) for i in range(k)}\n",
        "\n",
        "    s.add(init(state[0]))\n",
        "\n",
        "    for i in range(k-1):\n",
        "        s.add(trans(state[i], state[i+1]))\n",
        "    \n",
        "    s.add(Or([Not(inv(state[i])) for i in range(k)]))\n",
        "\n",
        "    if s.check() == sat:\n",
        "        m = s.model()\n",
        "        print(\"Não é verdade nos estados iniciais\")\n",
        "        dump_die(m, state, k)\n",
        "        return False\n",
        "\n",
        "    s = Solver()\n",
        "    state = {i: declare(i) for i in range(k+1)}\n",
        "\n",
        "    for i in range(k):\n",
        "        s.add(inv(state[i]))\n",
        "        s.add(trans(state[i], state[i+1]))\n",
        "    \n",
        "    s.add(Not(inv(state[k])))\n",
        "\n",
        "    if s.check() == sat:\n",
        "        m = s.model()\n",
        "        print(\"O passo indutivo não é verdade nos estados\")\n",
        "        dump_die(m, state, k)\n",
        "        return False\n",
        "    \n",
        "    print(\"O invariante é válido\")\n",
        "    return True"
      ],
      "metadata": {
        "id": "fXLcdlhonjZb"
      },
      "execution_count": null,
      "outputs": []
    },
    {
      "cell_type": "code",
      "source": [
        "def exec_termina(nao_negativo, utilidade, decrescente):\n",
        "    cond = False\n",
        "    k = 0\n",
        "    max = 50\n",
        "\n",
        "    while cond == False and k < max:\n",
        "        k += 1\n",
        "\n",
        "        cond = kinduction_always(declare,init,trans,nao_negativo,k)\n",
        "        cond = cond and kinduction_always(declare,init,trans,utilidade,k)\n",
        "        cond = cond and kinduction_always(declare,init,trans,decrescente,k)\n",
        "    \n",
        "    return k\n",
        "\n",
        "exec_termina(nao_negativo, utilidade, decrescente)"
      ],
      "metadata": {
        "id": "B6vZJCVmqvce"
      },
      "execution_count": null,
      "outputs": []
    },
    {
      "cell_type": "markdown",
      "source": [
        "# 2. a.\n",
        "\n",
        "Codifique usando a **LPA** (linguagem de programas anotadas) a forma recursiva deste programa.\n",
        "\n",
        "$$\n",
        "W \\equiv \\{\\mathsf{assume}\\ (y > 0);\\ S;\\ W\\}\\ \\|\\ \\{\\mathsf{assume}\\ (y \\le 0)\\}\\\\\n",
        "S ≡ \\{\\mathsf{assume}\\ (y\\ \\&\\ 1 = 1);\\ C;\\ Z\\}\\ \\|\\ \\{\\mathsf{assume}\\ (y\\ \\&\\ 1 \\ne 1);\\ Z\\}\\\\\n",
        "C ≡ \\{\\mathit{y} \\gets \\mathit{y - 1};\\ \\mathit{r} \\gets \\mathit{r + x}\\}\\\\\n",
        "Z ≡ \\{\\mathit{y} \\gets \\mathit{y \\gg 1};\\ \\mathit{x} \\gets \\mathit{x \\ll 1}\\}\n",
        "$$\n",
        "\n",
        "```python\n",
        "assume m >= 0 and n >= 0 and r == 0 and x == m and y == n;\n",
        "assert inv;\n",
        "# Ciclo\n",
        "havoc x; havoc y; havoc r;\n",
        "\n",
        "#Corpo\n",
        "((assume (y > 0) and inv;\n",
        "    ((assume (y & 1 == 1);\n",
        "        y = y-1;\n",
        "        r = r+x;\n",
        "    ) || (\n",
        "        assume (not (y & 1 == 1));\n",
        "        skip;\n",
        "    ))\n",
        "    x = x<<1;\n",
        "    y = y>>1;\n",
        "    assert inv;\n",
        "    assume False;\n",
        ") || (\n",
        "    assume (not (y > 0)) and inv;\n",
        "));\n",
        "\n",
        "assert r == m * n;\n",
        "# End Ciclo/Corpo\n",
        "```"
      ],
      "metadata": {
        "id": "JAiqkOoewjmu"
      }
    },
    {
      "cell_type": "markdown",
      "source": [
        "# 2. b.\n",
        "Temos agora de definir um invariante que assegure a correção, para o efeito definimo-lo da seguinte forma:\n",
        "$$ m ∗ n == x ∗ y + r\\ \\land\\ y \\geq 0 $$\n",
        "Após este passo vamos agora utilizar as regras da metodologia $WPC$ com o intuito de gerar a condição de verificação:\n",
        "$$\n",
        "\\begin{array}{l}\n",
        "{\\sf inv} = y >= 0 \\wedge x*y+r == m*n \\\\\n",
        "{\\sf pre} = m >= 0 \\wedge n >= 0 \\wedge r == 0 \\wedge x == m \\wedge y == n \\\\\n",
        "{\\sf pos} = r == m * n \\\\ \\\\\n",
        "{\\sf pre} \\to ({\\sf inv} \\wedge [{\\sf Ciclo}]) \\\\\n",
        "\\equiv \\quad \\mbox{(havoc)}\\\\\n",
        "{\\sf pre} \\to ({\\sf inv} \\wedge \\forall x.\\forall y.\\forall r. [{\\sf Corpo}]) \\\\\n",
        "\\equiv \\quad \\mbox{(porque $x$ e $y$ estão quantificadas)}\\\\\n",
        "{\\sf pre} \\to {\\sf inv} \\wedge \\forall x.\\forall y.\\forall r. [{\\sf Corpo}] \\\\\n",
        "\\equiv \\quad \\mbox{(porque assume $\\mathit{False}$ dá origem a $\\mathit{False} \\to \\ldots = \\mathit{True}$)} \\\\\n",
        "{\\sf pre} \\to {\\sf inv} \\;\\wedge\\; (\\,\\forall x.\\forall y.\\forall r. \\,(\\\\\n",
        "\\quad y > 0 \\wedge {\\sf inv} \\to \\, (\\\\\n",
        "\\qquad(y\\,\\&\\,1 = 1 \\to {\\sf inv}[(y \\gg 1)/y][(x \\ll 1)/x][(r+x)/r][(y-1)/y]) \\;\\wedge \\\\\n",
        "\\qquad(\\neg(y\\,\\&\\,1 = 1) \\to {\\sf inv}[(y \\gg 1)/y][(x \\ll 1)/x])\\\\\n",
        "\\quad ) \\;\\wedge\\; (\\neg(y > 0) \\wedge {\\sf inv} \\to {\\sf pos})\\\\\n",
        ")\\,)\n",
        "\\end{array}\n",
        "$$\n",
        "Desta forma podemos traduzir o programa na seguinte linguagem de fluxos:\n",
        "```python\n",
        "  [assume m >= 0 and n >= 0 and r == 0 and x == m and y == n; assert inv;\n",
        "  havoc x; havoc y; havoc r;\n",
        "  (assume y>0 and inv; (assume y & 1==1; y=y-1; r= r+x; \n",
        "  || assume not (y & 1==1);skip;)x=x<<1; y=y>>1; \n",
        "  assert inv; assume False; \n",
        "  || assume not(y>0) and inv;) \n",
        "  assert r == m * n]\n",
        "\n",
        "= m >= 0 and n >= 0 and r == 0 and x == m and y == n => \n",
        "  [assert inv; havoc x; havoc y; havoc r;\n",
        "  (assume y>0 and inv;(assume y & 1==1; y=y-1; r= r+x; \n",
        "  || assume not (y & 1==1);) x=x<<1; y=y>>1; \n",
        "  assert inv; assume False; assert r == m * n; \n",
        "  || assume not(y>0) and inv; assert r == m * n;)]\n",
        "\n",
        "= m >= 0 and n >= 0 and r == 0 and x == m and y == n => (inv and \n",
        "  [havoc x; havoc y; havoc r; \n",
        "  (assume y>0 and inv; (assume y & 1==1; y=y-1; r= r+x;\n",
        "  || assume not (y & 1==1);) x=x<<1; y=y>>1; \n",
        "  assert inv; assume False; assert r == m * n; \n",
        "  || assume not(y>0) and inv;assert r == m * n;)])\n",
        "\n",
        "= m >= 0 and n >= 0 and r == 0 and x == m and y == n => \n",
        "  (inv and forall x forall y forall r \n",
        "  [(assume y>0 and inv; (assume y & 1==1; y=y-1; r= r+x; \n",
        "  || assume not (y & 1==1);) x=x<<1; y=y>>1; \n",
        "  assert inv; assume False; assert r == m * n; \n",
        "  || assume not(y>0) and inv;assert r == m * n;)])\n",
        "\n",
        "= m >= 0 and n >= 0 and r == 0 and x == m and y == n => \n",
        "  (inv and forall x forall y forall r \n",
        "  (y>0 and inv => [(assume y & 1==1; y=y-1; r= r+x; \n",
        "  || assume not (y & 1==1);)x=x<<1; y=y>>1; \n",
        "  assert inv; assume False; assert r == m * n; \n",
        "  || assume not(y>0) and inv; assert r == m * n;)])\n",
        "\n",
        "= m >= 0 and n >= 0 and r == 0 and x == m and y == n =>\n",
        "  (inv and forall x forall y forall r \n",
        "  (y>0 and inv => [(assume y & 1==1; y=y-1; r= r+x; x=x<<1; y=y>>1; \n",
        "  assert inv; assume False; assert r == m * n;\n",
        "  || assume not (y & 1==1); x=x<<1; y=y>>1; assert inv;\n",
        "  assume False; assert r == m * n;)\n",
        "  || assume not(y>0) and inv; assert r == m * n;)])\n",
        "\n",
        "= m >= 0 and n >= 0 and r == 0 and x == m and y == n =>\n",
        "  (inv and forall x forall y forall r \n",
        "  (y>0 & inv => [((assume y and 1==1; (assert inv; assume False; \n",
        "  assert r == m * n;)[y>>1/y] [x<<1/x][r+x/r][y-1/y])\n",
        "  || (assume not (y & 1==1);  \n",
        "  (assert inv;assume False; assert r == m * n;)[y>>1/y][x<<1/x])\n",
        "  || assume not(y>0) and inv; assert r == m * n;)])\n",
        "\n",
        "= m>=0 and n >= 0 and r == 0 and x == m and y == n =>\n",
        "  (inv and forall x forall y forall r \n",
        "  (y>0 and inv => ((y & 1==1 => (inv and (False => r == m * n;))\n",
        "  [y>>1/y][x<<1/x][r+x/r][y-1/y]) and [(assume not (y & 1==1); \n",
        "  (assert inv; assume False; assert r == m * n;)[y>>1/y] [x<<1/x]) \n",
        "  and assume not(y>0) and inv; assert r == m * n;)])\n",
        "\n",
        "= m >= 0 and n >= 0 and r == 0 and x == m and y == n =>\n",
        "  (inv and forall x forall y forall r (y>0 and inv => \n",
        "  ((y & 1==1 => (inv and (False => r == m * n))\n",
        "  [y>>1/y][x<<1/x][r+x/r][y-1/y]) and (not (y & 1==1) =>\n",
        "  (inv and (False => r == m * n))[y>>1/y][x<<1/x]) and\n",
        "  [assume not(y>0) and inv; assert r == m * n;)])\n",
        "\n",
        "= m>=0 and n>=0 and r==0 and x==m and y==n => \n",
        "  inv and forall x forall y forall r \n",
        "  (y>0 and inv => (y & 1==1 => \n",
        "  (inv and (False => r == m * n)) [y>>1/y][x<<1/x][r+x/r][y-1/y]) and \n",
        "  (not (y & 1==1) => (inv and (False => r == m * n))[y>>1/y][x<<1/x]) and \n",
        "  not(y>0) and inv => r == m * n)\n",
        "\n",
        "= m>=0 and n>=0 and r==0 and x==m and y==n =>\n",
        "  inv and forall x forall y forall r (y>0 and inv => \n",
        "  (y & 1==1 => (inv[y>>1/y][x<<1/x][r+x/r][y-1/y]) and \n",
        "  (not (y & 1==1) =>(inv[y>>1/y][x<<1/x]) and not(y>0) and inv => r == m * n)\n",
        "\n",
        "```\n",
        "De seguida implementamos esta fórmula no $z3$ e tentamos provar a sua veracidade:"
      ],
      "metadata": {
        "id": "nFx0M5AEG3N5"
      }
    },
    {
      "cell_type": "code",
      "source": [
        "def prove(f):\n",
        "    s = Solver()\n",
        "    s.add(Not(f))\n",
        "    r = s.check()\n",
        "    if r == unsat:\n",
        "        print(\"Proved\")\n",
        "    else:\n",
        "        print(\"Failed to prove\")\n",
        "        m = s.model()\n",
        "        for v in m:\n",
        "            print(v,'=', m[v])"
      ],
      "metadata": {
        "id": "Sx_BoZHJp7iv"
      },
      "execution_count": null,
      "outputs": []
    },
    {
      "cell_type": "code",
      "source": [
        "# Não termina para 16 bits\n",
        "x, y, r, m, n = BitVecs('x y r m n', 8)\n",
        "Zero = BitVecVal(0, 8)\n",
        "One = BitVecVal(1, 8)\n",
        "\n",
        "inv = And(y >= Zero, x*y+r == m*n)\n",
        "pre = And(m >= Zero, n >= Zero, r == Zero, x == m, y == n)\n",
        "pos = And(r == m * n)\n",
        "\n",
        "fluxoIf = And(\n",
        "    Implies(y&One == One, substitute(inv, [(y, y>>One), (x, x<<One), (r, r+x), (y, y-One)])),\n",
        "    Implies(Not(y&One == One), substitute(inv, [(y, y>>One), (x, x<<One)]))\n",
        ")\n",
        "\n",
        "fluxoWhile = And(\n",
        "    Implies(And(y > Zero, inv), fluxoIf),\n",
        "    Implies(And(Not(y > Zero), inv), pos)\n",
        ")\n",
        "\n",
        "vc = Implies(pre, And(inv, ForAll([x, y, r], fluxoWhile)))\n",
        "\n",
        "prove(vc)"
      ],
      "metadata": {
        "colab": {
          "base_uri": "https://localhost:8080/"
        },
        "id": "GrZdjgM6p8qd",
        "outputId": "1ee68986-2f85-41a5-9b0d-3478d6568eb9"
      },
      "execution_count": null,
      "outputs": [
        {
          "output_type": "stream",
          "name": "stdout",
          "text": [
            "Proved\n"
          ]
        }
      ]
    },
    {
      "cell_type": "markdown",
      "source": [
        "E agora no PySMT:"
      ],
      "metadata": {
        "id": "IJdKJUdTml-z"
      }
    },
    {
      "cell_type": "code",
      "source": [
        "def proveSMT(formula):\n",
        "    print(\"Serialization of the formula:\")\n",
        "    print(formula)\n",
        "\n",
        "    with ps.Solver(name=\"z3\") as solver:\n",
        "        solver.add_assertion(ps.Not(formula))\n",
        "        if not solver.solve():\n",
        "            print(\"Proved\")\n",
        "        else:\n",
        "            print(\"Failed to prove\")"
      ],
      "metadata": {
        "id": "tBiyEbgtaYRX"
      },
      "execution_count": null,
      "outputs": []
    },
    {
      "cell_type": "code",
      "source": [
        "bits = 8\n",
        "zero = ps.BVZero(bits)\n",
        "one  = ps.BVOne(bits)\n",
        "\n",
        "# O ciclo\n",
        "m = ps.Symbol(\"m\", pt.BV8)\n",
        "n = ps.Symbol(\"n\", pt.BV8)\n",
        "x = ps.Symbol(\"x\", pt.BV8)\n",
        "y = ps.Symbol(\"y\", pt.BV8)\n",
        "r = ps.Symbol(\"r\", pt.BV8)\n",
        "\n",
        "variables = [m, n, x, y, r]\n",
        "\n",
        "inv = ps.And(y >= zero, ((x * y) + r).Equals(m * n))\n",
        "pre = ps.And(m >= zero, n >= zero, r.Equals(zero), x.Equals(m), y.Equals(n))\n",
        "pos = r.Equals(m * n)\n",
        "\n",
        "subWhile = {\n",
        "    y: ps.BVLShr(y, one),\n",
        "    x: ps.BVLShl(x, one)\n",
        "}\n",
        "subIf = {\n",
        "    y: ps.BVSub(y, one),\n",
        "    r: ps.BVAdd(r, x)\n",
        "}\n",
        "fluxoIf = ps.And(\n",
        "    ps.Implies(ps.BVAnd(y, one).Equals(one), inv.substitute(subWhile).substitute(subIf)),\n",
        "    ps.Implies(ps.Not(ps.BVAnd(y, one).Equals(one)), inv.substitute(subWhile))\n",
        ")\n",
        "\n",
        "fluxoWhile = ps.And(\n",
        "    ps.Implies(ps.And(y > zero, inv), fluxoIf),\n",
        "    ps.Implies(ps.And(ps.Not(y > zero), inv), pos)\n",
        ")\n",
        "\n",
        "vc = ps.Implies(pre, ps.And(inv, ps.ForAll([x, y, r], fluxoWhile)))\n",
        "\n",
        "\n",
        "proveSMT(vc)"
      ],
      "metadata": {
        "colab": {
          "base_uri": "https://localhost:8080/"
        },
        "id": "xb55PPH4aX8J",
        "outputId": "2c83edb7-3e37-48dd-d6f6-24e63c8504ab"
      },
      "execution_count": null,
      "outputs": [
        {
          "output_type": "stream",
          "name": "stdout",
          "text": [
            "Serialization of the formula:\n",
            "(((0_8 u<= m) & (0_8 u<= n) & (r = 0_8) & (x = m) & (y = n)) -> (((0_8 u<= y) & ((... + ...) = (... * ...))) & (forall x, y, r . ((... -> ...) & (... -> ...)))))\n",
            "Proved\n"
          ]
        }
      ]
    },
    {
      "cell_type": "markdown",
      "source": [
        "# 2.c\n",
        "\n",
        "Para a construção da definição iterativa do *single assignment unfolding*  usamos um parâmetro limite $N$ e aumentamos a pré-condição com a condição:\n",
        "$$(n < N)\\,\\land\\,(m < N)$$ \n",
        "O número de iterações foi controlado pelo parâmetro $N$. Este $N$ será o número máximo que é possível representar com $b$ bits. $N = 2^{b-1}-1$.\n",
        "\n",
        "Desenrolar uma  vez\n",
        "```python\n",
        "assume m >= 0 and n >= 0 and r == 0 and x == m and y == n;\n",
        "if (y0 > 0):\n",
        "    if (y0 & 1 == 1):\n",
        "        y1 = y0-1;\n",
        "        r1 = r0+x0;\n",
        "    else:\n",
        "        y1 = y0;\n",
        "        r1 = r0;\n",
        "    x1, y2 = x0<<1, y1>>1;\n",
        "    assert not (y2 > 0);\n",
        "else:\n",
        "    r1 = r0;\n",
        "assert r1 == m0 * n0;\n",
        "```\n",
        "\n",
        "Desenrolar duas vezes\n",
        "```python\n",
        "assume m >= 0 and n >= 0 and r == 0 and x == m and y == n;\n",
        "if (y0 > 0):\n",
        "    if (y0 & 1 == 1):\n",
        "        y1 = y0-1;\n",
        "        r1 = r0+x0;\n",
        "    else:\n",
        "        y1 = y0;\n",
        "        r1 = r0;\n",
        "    x1, y2 = x0<<1, y1>>1;\n",
        "\n",
        "    if (y2 > 0):\n",
        "        if (y2 & 1 == 1):\n",
        "            y3 = y2-1;\n",
        "            r2 = r1+x1;\n",
        "        else:\n",
        "            y3 = y2;\n",
        "            r2 = r1;\n",
        "        x2, y4 = x1<<1, y3>>1;\n",
        "        assert not (y4 > 0);\n",
        "    else:\n",
        "        x2 = x1;\n",
        "        y4 = y2;\n",
        "        r2 = r1;\n",
        "else:\n",
        "    x1 = x0;\n",
        "    y4 = y0;\n",
        "    r2 = r0;\n",
        "assert r2 == m0 * n0;\n",
        "```\n",
        "Após estas tentativas notámos um padrão e decidimos escrever funções que nos vão dar o output."
      ],
      "metadata": {
        "id": "gt5bBJgPJq0F"
      }
    },
    {
      "cell_type": "code",
      "source": [
        "def ifCode(lvl):\n",
        "    return f'''\n",
        "{tab*lvl}if (y{lvl*2} > 0):\n",
        "{tab*lvl}    if (y{lvl*2} & 1 == 1):\n",
        "{tab*lvl}        y{lvl*2+1} = y{lvl*2}-1;\n",
        "{tab*lvl}        r{lvl+1} = r{lvl}+x{lvl};\n",
        "{tab*lvl}    else:\n",
        "{tab*lvl}        y{lvl*2+1} = y{lvl*2};\n",
        "{tab*lvl}        r{lvl+1} = r{lvl};\n",
        "{tab*lvl}    x{lvl+1} = x{lvl}<<1;\n",
        "{tab*lvl}    y{lvl*2+2} = y{lvl*2+1}>>1;'''\n",
        "\n",
        "def elseCode(lvl, N):\n",
        "    return f'''\n",
        "{tab*lvl}else:\n",
        "{tab*lvl}    x{N} = x{lvl};\n",
        "{tab*lvl}    y{N*2} = y{lvl*2};\n",
        "{tab*lvl}    r{N} = r{lvl};'''\n",
        "\n",
        "\n",
        "def unfoldCode(N, tab, lvl = 0):\n",
        "    for i in range(N):\n",
        "        print(ifCode(i))\n",
        "\n",
        "    print(f\"{tab*N}assert not (y{N*2} > 0);\")\n",
        "\n",
        "    for i in range(N-1, -1, -1):\n",
        "        print(elseCode(i, N))\n",
        "    \n",
        "    return None\n",
        "\n",
        "\n",
        "tab = ' '*4\n",
        "unfoldCode(2, tab)"
      ],
      "metadata": {
        "id": "4QXPW4GMM1f8"
      },
      "execution_count": null,
      "outputs": []
    },
    {
      "cell_type": "code",
      "source": [
        "def fluxo(lvl):\n",
        "    return f'''\n",
        "assume (y{lvl*2} > 0);\n",
        "((assume (y{lvl*2} & 1 == 1);\n",
        "    y{lvl*2+1} = y{lvl*2}-1;\n",
        "    r{lvl+1} = r{lvl}+x{lvl};\n",
        ") || (assume not (y{lvl*2} & 1 == 1);\n",
        "    y{lvl*2+1} = y{lvl*2};\n",
        "    r{lvl+1} = r{lvl};\n",
        "))\n",
        "x{lvl+1} = x{lvl}<<1;\n",
        "y{lvl*2+2} = y{lvl*2+1}>>1;'''\n",
        "\n",
        "def unfoldFluxo(N):\n",
        "    print(\"assume m0 >= 0 and n0 >= 0 and r0 == 0 and x0 == m0 and y0 == n0;\")\n",
        "\n",
        "    for lvl in range(N):\n",
        "        print(fluxo(lvl))\n",
        "\n",
        "    print(f\"\\nassert r{N} == m0 * n0 and not(y{N*2} > 0);\")\n",
        "\n",
        "\n",
        "unfoldFluxo(2)"
      ],
      "metadata": {
        "id": "ZfMeMNpwdSrY"
      },
      "execution_count": null,
      "outputs": []
    },
    {
      "cell_type": "markdown",
      "source": [
        "```python\n",
        "ssume m0 >= 0 and n0 >= 0 and r0 == 0 and x0 == m0 and y0 == n0;\n",
        "\n",
        "((assume (y0 > 0);\n",
        "    ((assume (y0 & 1 == 1);\n",
        "        y1 = y0-1;\n",
        "        r1 = r0+x0;\n",
        "    ) || (assume not (y0 & 1 == 1);\n",
        "        y1 = y0;\n",
        "        r1 = r0;\n",
        "    ))\n",
        "    x1 = x0<<1;\n",
        "    y2 = y1>>1;\n",
        "\n",
        "    ((assume (y2 > 0);\n",
        "        ((assume (y2 & 1 == 1);\n",
        "            y3 = y2-1;\n",
        "            r2 = r1+x1;\n",
        "        ) || (assume not (y2 & 1 == 1);\n",
        "            y3 = y2;\n",
        "            r2 = r1;\n",
        "        ))\n",
        "        x2 = x1<<1;\n",
        "        y4 = y3>>1;\n",
        "    ) || (assume not(y2 > 0);\n",
        "        x2 = x0;\n",
        "        y4 = y0;\n",
        "        r2 = r0;\n",
        "    ))\n",
        "\n",
        ") || (assume not(y0 > 0);\n",
        "    x2 = x0;\n",
        "    y4 = y0;\n",
        "    r2 = r0;\n",
        "))\n",
        "\n",
        "assert r2 == m0 * n0 and not(y4 > 0);\n",
        "```"
      ],
      "metadata": {
        "id": "IXnN_RjYh-dD"
      }
    },
    {
      "cell_type": "code",
      "source": [
        "def unfoldFluxoTotal(N):\n",
        "    bits = N\n",
        "    m0, n0 = BitVecs('m0 n0', bits)\n",
        "    x_ = [BitVec(f'x{i}', bits) for i in range(N+1)]\n",
        "    y_ = [BitVec(f'y{i}', bits) for i in range(N*2+2)]\n",
        "    r_ = [BitVec(f'r{i}', bits) for i in range(N+1)]\n",
        "    ciclo = True\n",
        "\n",
        "    for i in range(N-1, -1, -1):\n",
        "        fluxoIf = Or(\n",
        "            And(y_[i*2] & 1 == 1, y_[i*2+1] == y_[i*2]-1, r_[i+1] == r_[i]+x_[i]),\n",
        "            And(Not(y_[i*2] & 1 == 1), y_[i*2+1] == y_[i*2], r_[i+1] == r_[i])\n",
        "        )\n",
        "        \n",
        "        ciclo = Or(\n",
        "            And(y_[i*2] > 0, fluxoIf, x_[i+1] == x_[i]<<1, y_[i*2+2] == y_[i*2+1]>>1, ciclo),\n",
        "            And(Not(y_[i*2] > 0), x_[N] == x_[i], y_[N*2] == y_[i*2], r_[N] == r_[i])\n",
        "        )\n",
        "    \n",
        "    print(simplify(ciclo))\n",
        "\n",
        "    pre = And(m0 >= 0, n0 >= 0, r_[0] == 0, x_[0] == m0, y_[0] == n0)\n",
        "    pos = And(r_[N] == m0 * n0)\n",
        "\n",
        "    vctt = Implies(\n",
        "        And(pre, ciclo),\n",
        "        And(pos, Not(y_[N*2] > 0))\n",
        "    )\n",
        "\n",
        "    prove(vctt)\n",
        "\n",
        "unfoldFluxoTotal(8)"
      ],
      "metadata": {
        "id": "VIrI6fHGs5l1"
      },
      "execution_count": null,
      "outputs": []
    },
    {
      "cell_type": "code",
      "source": [
        "def fluxo2z3(x_, y_, r_, i):\n",
        "    fluxoIf = Or(\n",
        "        And(y_[i*2] & 1 == 1, y_[i*2+1] == y_[i*2]-1, r_[i+1] == r_[i]+x_[i]),\n",
        "        And(Not(y_[i*2] & 1 == 1), y_[i*2+1] == y_[i*2], r_[i+1] == r_[i])\n",
        "    )\n",
        "\n",
        "    return And(y_[i*2] > 0, fluxoIf, x_[i+1] == x_[i]<<1, y_[i*2+2] == y_[i*2+1]>>1)\n",
        "\n",
        "def unfoldFluxoThen(N):\n",
        "    bits = N\n",
        "    m0, n0 = BitVecs('m0 n0', bits)\n",
        "    x_ = [BitVec(f'x{i}', bits) for i in range(N+1)]\n",
        "    y_ = [BitVec(f'y{i}', bits) for i in range(N*2+2)]\n",
        "    r_ = [BitVec(f'r{i}', bits) for i in range(N+1)]\n",
        "\n",
        "    pre = And(m0 >= 0, n0 >= 0, r_[0] == 0, x_[0] == m0, y_[0] == n0)\n",
        "    pos = And(r_[N] == m0 * n0)\n",
        "    ciclo = And([fluxo2z3(x_, y_, r_, i) for i in range(N)])\n",
        "\n",
        "    vctt = Implies(\n",
        "        And(pre, ciclo),\n",
        "        And(pos, Not(y_[N*2] > 0))\n",
        "    )\n",
        "\n",
        "    prove(vctt)\n",
        "\n",
        "unfoldFluxoThen(16)"
      ],
      "metadata": {
        "id": "VeETFjmShwv1"
      },
      "execution_count": null,
      "outputs": []
    },
    {
      "cell_type": "code",
      "source": [
        "# PySMT example https://github.com/pysmt/pysmt\n",
        "# https://pysmt.readthedocs.io/en/latest/_modules/pysmt/shortcuts.html\n",
        "# https://pysmt.readthedocs.io/en/latest/_modules/pysmt/typing.html\n",
        "\n",
        "def prime(v):\n",
        "    return ps.Symbol(\"next(%s)\" % v.symbol_name(), v.symbol_type())\n",
        "\n",
        "def fresh(v):\n",
        "    return ps.FreshSymbol(typename=v.symbol_type(),template=v.symbol_name()+\"_%d\")\n",
        "\n",
        "class EPU(object):      \n",
        "    \"\"\"deteção de erro\"\"\"\n",
        "\n",
        "    def __init__(self, variables, init , trans, error, sname=\"z3\"):\n",
        "              \n",
        "        self.variables = variables       # FOTS variables   \n",
        "        self.init  = init                # FOTS init as unary predicate in \"variables\"\n",
        "        self.error = error               # FOTS error condition as unary predicate in \"variables\"\n",
        "        self.trans = trans               # FOTS transition relation as a binary transition relation \n",
        "                                         # in \"variables\" and \"prime variables\"\n",
        "        \n",
        "        self.prime_variables = [prime(v) for v in self.variables]\n",
        "        self.frames = [self.error]       # inializa com uma só frame: a situação de error\n",
        "        \n",
        "        self.solver = ps.Solver(name=sname)\n",
        "        self.solver.add_assertion(self.init)     # adiciona o estado inicial como uma asserção sempre presente \n",
        "\n",
        "    def new_frame(self):  \n",
        "        freshs = [fresh(v) for v in self.variables]\n",
        "        T = self.trans.substitute(dict(zip(self.prime_variables,freshs)))\n",
        "        F = self.frames[-1].substitute(dict(zip(self.variables,freshs)))\n",
        "        self.frames.append(ps.Exists(freshs, ps.And(T, F)))\n",
        "        \n",
        "    def unroll(self,bound=0):\n",
        "        n = 0\n",
        "        while True:\n",
        "            if n > bound:\n",
        "                print(\"falha: tentativas ultrapassam o limite %d \"%bound)\n",
        "                break\n",
        "            elif self.solver.solve(self.frames):  \n",
        "                self.new_frame()\n",
        "                n += 1\n",
        "            else:\n",
        "                print(\"sucesso: tentativa %d \"%n)\n",
        "                break   \n",
        "\n",
        "class Cycle(EPU):\n",
        "    def __init__(self,variables,pre,pos,control,body,sname=\"z3\"):\n",
        "        init  = pre\n",
        "        trans = ps.And(control,body)\n",
        "        error = ps.Or(control,ps.Not(pos))\n",
        "        super().__init__(variables, init, trans, error, sname)\n",
        "\n",
        "\n",
        "\n",
        "bits = 16\n",
        "N = ps.BV(((2**bits)-1), bits)\n",
        "zero = ps.BVZero(bits)\n",
        "one  = ps.BVOne(bits)\n",
        "\n",
        "# O ciclo\n",
        "m16 = ps.Symbol(\"m16\", pt.BV16)\n",
        "n16 = ps.Symbol(\"n16\", pt.BV16)\n",
        "x16 = ps.Symbol(\"x16\", pt.BV16)\n",
        "y16 = ps.Symbol(\"y16\", pt.BV16)\n",
        "r16 = ps.Symbol(\"r16\", pt.BV16)\n",
        "\n",
        "variables = [m16, n16, x16, y16, r16]\n",
        "\n",
        "\n",
        "pre = ps.And(n16 < N, m16 < N, m16 >= zero, n16 >= zero, r16.Equals(zero), x16.Equals(m16), y16.Equals(n16))\n",
        "pos = r16.Equals(m16 * n16)\n",
        "cond = y16 > zero\n",
        "\n",
        "ifBody = ps.And(\n",
        "    ps.Implies(ps.Equals(ps.BVAnd(y16, one), one), ps.And(\n",
        "        ps.Equals(prime(y16), ps.BVSub(y16, one)),\n",
        "        ps.Equals(prime(x16), ps.BVAdd(r16, x16))\n",
        "    )),\n",
        "    ps.Implies(ps.Not(ps.Equals(ps.BVAnd(y16, one), one)), ps.And(\n",
        "            ps.Equals(prime(y16), y16),\n",
        "            ps.Equals(prime(x16), x16)\n",
        "    ))\n",
        ")\n",
        "\n",
        "trans = ps.And(\n",
        "    ifBody,\n",
        "    ps.Equals(prime(x16), ps.BVLShl(x16, one)),\n",
        "    ps.Equals(prime(y16), ps.BVLShr(y16, one))\n",
        ")\n",
        "\n",
        "\n",
        "W = Cycle(variables,pre,pos,cond,trans)\n",
        "W.unroll(bits)"
      ],
      "metadata": {
        "colab": {
          "base_uri": "https://localhost:8080/"
        },
        "id": "j2X0dX7NcZ6l",
        "outputId": "2d1ad76d-b035-437f-a92e-76335dba35ba"
      },
      "execution_count": null,
      "outputs": [
        {
          "output_type": "stream",
          "name": "stdout",
          "text": [
            "sucesso: tentativa 2 \n"
          ]
        }
      ]
    }
  ]
}