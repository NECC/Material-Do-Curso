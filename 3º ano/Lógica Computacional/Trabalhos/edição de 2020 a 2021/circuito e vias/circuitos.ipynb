{
 "cells": [
  {
   "cell_type": "markdown",
   "metadata": {},
   "source": [
    "# Circuitos Aritméticos"
   ]
  },
  {
   "cell_type": "markdown",
   "metadata": {},
   "source": [
    "**Grupo 7:**\n",
    "\n",
    "- Luís Almeida A84180\n",
    "- João Pedro Antunes A86813 "
   ]
  },
  {
   "cell_type": "markdown",
   "metadata": {},
   "source": [
    " Considere circuitos aritméticos $N * 1$ (N inputs e 1 output), com “wires” de 16 bits  e “gates” de três tipos: \n",
    "  1. a “gate” binária $ \\oplus $ implementa $\\mathtt{xor}$ bit a bit\n",
    "  \n",
    "  2. a “gate” binária $+$ implementa soma aritmética ($\\mathtt{add}$) de inteiros módulo $2^{16}$,\n",
    "  \n",
    "  3. a “gate”  unária $\\gg_r $ implementa o “right-shift-rotate” do argumento um número de posições dado pela constante $0<r< 16$.\n",
    "  \n",
    "Os parâmetros do circuito são o número de inputs $N$, o número de “gates” $M$ e a razão $\\gamma$ entre o número de “gates”  $\\mathtt{add}$ e o número total de “gates”.\n",
    "    \n",
    "Neste problema \n",
    "   1. É dado um circuito aleatoriamente gerado com parâmetros $N,M$ e $\\gamma$. \n",
    "   2. São dados também  o valor do output final e o “output” de todas as “gates”  $\\mathtt{add}$.\n",
    "    Pretende-se usar Z3 para determinar se os dados são consistentes entre si e, se forem, determinar  inputs que sejam compatíveis com tais outputs."
   ]
  },
  {
   "cell_type": "markdown",
   "metadata": {},
   "source": [
    "### Geração dos Circuitos"
   ]
  },
  {
   "cell_type": "markdown",
   "metadata": {},
   "source": [
    "Podemos modelar os circuitos aritméticos como grafos orientados. O circuito terá $N$ \"inputs\" e $1$ \"output\" final, pelo que teremos no mínimo $N+1$ \"wires\". Os \"wires\" que são \"inputs\" têm de ser fixados no início do grafo e o \"wire\" de \"output\" final será o \"sink\" $r$ que, para todas as \"sources\" $s$, existe um caminho de $s$ para $r$. Temos portanto que fixar o \"sink\" $r$ no fim do grafo. Os \"gates\" não serão nada mais do que nodos \"intermédios\" do grafo que representam a operação a ser realizada sobre a informação que lhes é fornecida. A informação irá fluir sempre dos \"inputs\" para os \"outputs\", pelo que podemos olhar para o grafo como uma árvore. A \"root\" desta árvore será o nodo $0$, estando este ligado a todos os \"wires\" de \"input\".\n",
    "<img src=\"circuito.png\" width=400/>"
   ]
  },
  {
   "cell_type": "markdown",
   "metadata": {},
   "source": [
    "Para distinguirmos \"wires\" e \"gates\", assim como \"wires\" de \"input\" e \"wires\" de output, \"gates\" add de \"gates xor, vamos etiquetar cada nodo com a respetiva \"wire\" ou \"gate\" que este representa. Para gerarmos circuitos aleatórios, podemos determinar aleatoriamente o número de cada tipo de \"gate\" presente no circuito. Posteriormente percorrem-se todas as \"gates\" ao acaso, escolhendo aleatoriamente os \"inputs\" de cada gate. Resta apenas garantir que para todas as \"sources\" $s$ existe um caminho para o nodo do \"output\" final do circuito, o \"sink\" $r$. Para este efeito podemos simplesmente descartar os grafos gerados que não têm esta propriedade e gerar um novo grafo até que esta se verifique."
   ]
  },
  {
   "cell_type": "code",
   "execution_count": 2,
   "metadata": {},
   "outputs": [],
   "source": [
    "from z3 import *\n",
    "#from pygraphviz import *\n",
    "import networkx as nx\n",
    "import random"
   ]
  },
  {
   "cell_type": "code",
   "execution_count": 3,
   "metadata": {},
   "outputs": [],
   "source": [
    "def gera_circuito(N,M,gama):\n",
    "    addGts = int(M*gama)      #Determina-se o número de gates add\n",
    "    G = nx.DiGraph()\n",
    "    G.add_node(0, type = \"root\")   #Etiqueta-se a root\n",
    "    for i in range(N):\n",
    "        G.add_node(i+1, type = \"Input\")  #Criam-se os wires de Input\n",
    "        G.add_edge(0,i+1)    #Liga-se a root aos inputs\n",
    "\n",
    "    comp = M - addGts #Nodos restantes sem ser somas\n",
    "\n",
    "    xorGts = random.randint((N -1 -addGts),comp) #numero de gates xor\n",
    "    rotGts = comp - xorGts #numero de gates rotate\n",
    "\n",
    "    #addGts, rotGts, xorGts\n",
    "    # 1 -> add, 2 -> rotate, 3 -> xor\n",
    "\n",
    "    aux = [1]*addGts + [2]*rotGts + [3]*xorGts\n",
    "    random.shuffle(aux) #Percorrem-se as gates do circuito ao acaso \n",
    "\n",
    "    for x in aux:\n",
    "        n = len(G)\n",
    "        inpts = random.choices(list(range(1,n)),k = 2) #Escolhem-se os inputs da gate x, um nodo qualquer do \n",
    "                                                       #grafo exceto a root\n",
    "        if x == 1:\n",
    "            G.add_node(n, type = \"Sum\", inputs = inpts)\n",
    "            G.add_edge(inpts[0],n)\n",
    "            G.add_edge(inpts[1],n)\n",
    "        \n",
    "        elif x == 2:\n",
    "            G.add_node(n, type = \"Rot\", r = random.randint(1,15), inputs = inpts[0]) #O número de bits a rodar\n",
    "            G.add_edge(inpts[0],n)                                                 # é aleatório\n",
    "\n",
    "        elif x == 3:\n",
    "            G.add_node(n, type = \"Xor\", inputs = inpts)\n",
    "            G.add_edge(inpts[0],n)\n",
    "            G.add_edge(inpts[1],n)\n",
    "\n",
    "    return G\n",
    "\n",
    "def verificaCircuito(graph, outN):        #Verifica se existe um caminho de todas as sources para o output final\n",
    "    for x in graph:\n",
    "        if not nx.has_path(graph,x,outN):\n",
    "            return False\n",
    "    return True\n",
    "\n",
    "def get_circuito(N,M,gama):      #Gera grafos enquanto não gerar algum grafo que represente um circuito\n",
    "    g = gera_circuito(N,M,gama)\n",
    "    while not verificaCircuito(g,len(g)-1):\n",
    "        g = gera_circuito(N,M,gama)\n",
    "    return g"
   ]
  },
  {
   "cell_type": "markdown",
   "metadata": {},
   "source": [
    "### Consistência dos dados"
   ]
  },
  {
   "cell_type": "markdown",
   "metadata": {},
   "source": [
    "Conforme referido no enunciado é agora pedido que, dados um \"output\" final do circuito e os resultados de cada \"gate\" add, se determine se estes valores são consistentes entre si, ou seja, se existe algum \"input\" do circuito cujo \"output\" é o resultado dado, bem como o resultado de cada \"gate\" add é o valor dado. Podemos começar por definir uma função que, dado um circuito, um \"input\" e um número $N$ de \"inputs\", determine o \"output\" final do circuito, bem como o valor de cada \"gate\" add. Comecemos por definir funções que vão implementar a operação de cada \"gate\" no circuito:"
   ]
  },
  {
   "cell_type": "code",
   "execution_count": 4,
   "metadata": {},
   "outputs": [],
   "source": [
    "def fromBin(a):\n",
    "    r = 0\n",
    "    for i in range(16):\n",
    "        r = 2*r\n",
    "        if (a[i]=='1'):\n",
    "            r = r+1\n",
    "    return r\n",
    "\n",
    "def toBin(a):\n",
    "    r = []\n",
    "    for _ in range(16):\n",
    "        r.insert(0,'1' if a%2==1 else '0')\n",
    "        a = a//2\n",
    "    return ''.join(r)\n",
    "\n",
    "def xor_16(b1,b2):\n",
    "    return b1 ^ b2\n",
    "\n",
    "def add_16(a,b):\n",
    "    return (a+b)%(2**16)\n",
    "\n",
    "def rotate_16(b,r):\n",
    "    return ((b >> r)%(2**16) | (b << 16-r))"
   ]
  },
  {
   "cell_type": "markdown",
   "metadata": {},
   "source": [
    "Vamos agora definir uma função que calcula o \"output\" de um dado circuito quando lhe é fornecido um determinado \"input\". Esta função tem de apenas percorrer o grafo e executar as operações etiquetadas em cada nodo. Podemos utilizar uma *breadth-first-search* para este efeito e assim encarar o circuito por \"níveis\". Vamos começar por dividir o \"input\" do circuito entre os \"wires\" de \"input\". Criamos um dicionário $d$ que, para todo o $x \\in d$, irá armazenar o resultado da operação especificada pelo nodo $x$. De seguida, iniciamos uma travessia no grafo a partir da root e por cada nodo que visitarmos inspecionamos a sua etiqueta. Executamos a operação determinada pela etiqueta e guardamos o resultado no dicionário. Quando já não houverem nodos por visitar significa que chegamos ao nodo onde está o output final, pelo que apenas precisamos de retornar o seu valor."
   ]
  },
  {
   "cell_type": "code",
   "execution_count": 5,
   "metadata": {},
   "outputs": [],
   "source": [
    "def calcula_circuito(graph,inp,N):\n",
    "    d = {}\n",
    "    for i in range(N):\n",
    "        d[i+1] = fromBin(inp[i*16:(i+1)*16])    #Divide-se o input pelos wires de input\n",
    "    \n",
    "    queue = [0]\n",
    "    outsGate = {}   #Dicionário que armazena o valor dos gates add\n",
    "    while queue:\n",
    "        x = queue.pop(0)\n",
    "        for (u,v) in graph.out_edges(x):\n",
    "            if v not in queue:\n",
    "                queue.append(v)\n",
    "                queue.sort()    #Faz-se um sort à orla para podermos encarar o circuito da esq para a dir\n",
    "        if graph.nodes[x]['type'] == 'Sum':\n",
    "            d[x] = add_16(d[graph.nodes[x]['inputs'][0]],d[graph.nodes[x]['inputs'][1]]) #Guardar o valor do resul-\n",
    "            outsGate[x] = d[x]                                              #tado da gate no dicionário d\n",
    "        \n",
    "        elif graph.nodes[x]['type'] == 'Xor':\n",
    "            d[x] = xor_16(d[graph.nodes[x]['inputs'][0]],d[graph.nodes[x]['inputs'][1]])\n",
    "        \n",
    "        elif graph.nodes[x]['type'] == 'Rot':\n",
    "            d[x] = rotate_16(d[graph.nodes[x]['inputs']],graph.nodes[x]['r'])\n",
    "        \n",
    "        if not queue:\n",
    "            return (toBin(d[x]),outsGate) #Retorna-se o output do circuito, bem como um dicionário que nos indica\n",
    "                                       # qual o valor de cada gate add\n",
    "    return 0"
   ]
  },
  {
   "cell_type": "markdown",
   "metadata": {},
   "source": [
    "Temos então de usar o Z3 para determinar se um conjunto de valores para cada gate add e um determinado \"output\" final são consistentes entre si. Utilizando teoria de *bit vectors* em conjunto com Lógica Proposicional podemos resolver este problema invertendo o circuito. Caso o Solver retorne unsat, sabemos que o conjunto de valores não é consistente entre si, caso contrário apresentar-se-ão alguns inputs que são consistentes com a informação fornecida. Comecemos por definir as operações do circuito usando Z3:"
   ]
  },
  {
   "cell_type": "code",
   "execution_count": 6,
   "metadata": {},
   "outputs": [],
   "source": [
    "def xor_16z3(b1,b2):\n",
    "    return b1 ^ b2\n",
    "\n",
    "def add_16z3(b1,b2):\n",
    "    return b1+b2    \n",
    "\n",
    "def rotate_16z3(b,r):\n",
    "    return ((b << 16-r) | LShR(b,r))"
   ]
  },
  {
   "cell_type": "markdown",
   "metadata": {},
   "source": [
    "Para invertermos o circuito vamos começar por criar um *bit vector* por cada \"wire\" de \"input\". De seguida percorremos o grafo, executando novamente as operações especificadas por cada nodo. No entanto, temos de adicionar a restrição de que, para cada \"gate\" add, o resultado tem de ser igual ao especificado no input da função. No fim de percorrermos o grafo, apenas forçamos o output a ser igual ao indicado."
   ]
  },
  {
   "cell_type": "code",
   "execution_count": 7,
   "metadata": {},
   "outputs": [],
   "source": [
    "def inverte_circuito(graph,out,outGates):\n",
    "    d = {}\n",
    "    sol = Solver()\n",
    "    \n",
    "    queue = [0]\n",
    "    \n",
    "    while queue:\n",
    "        x = queue.pop(0)\n",
    "        for (u,v) in graph.out_edges(x):\n",
    "            if v not in queue:\n",
    "                queue.append(v)\n",
    "                queue.sort()\n",
    "        \n",
    "        if graph.nodes[x]['type'] == 'Sum':\n",
    "            d[x] = add_16z3(d[graph.nodes[x]['inputs'][0]],d[graph.nodes[x]['inputs'][1]])\n",
    "            sol.add(d[x] == outGates[x])\n",
    "        \n",
    "        elif graph.nodes[x]['type'] == 'Xor':\n",
    "            d[x] = xor_16z3(d[graph.nodes[x]['inputs'][0]],d[graph.nodes[x]['inputs'][1]])\n",
    "        \n",
    "        elif graph.nodes[x]['type'] == 'Rot':\n",
    "            d[x] = rotate_16z3(d[graph.nodes[x]['inputs']],graph.nodes[x]['r'])\n",
    "        \n",
    "        elif graph.nodes[x]['type'] == 'Input':\n",
    "            d[x] = BitVec(str(x)+'inpt',16)\n",
    "        \n",
    "        if not queue:\n",
    "            sol.add(fromBin(out) == d[x])\n",
    "    \n",
    "    r = sol.check()\n",
    "    if r == sat:\n",
    "        print('Consistente')\n",
    "        l = []\n",
    "        cnt = 0\n",
    "        while sol.check() == sat and cnt != 5:\n",
    "            m = sol.model()\n",
    "            l.append(\"\".join([toBin(m[d[y]].as_long()) if m[d[y]] != None else \"\".join(random.choices([\"0\",\"1\"],k = 16)) for x,y in graph.out_edges(0)]))\n",
    "            sol.add(Not(And([d[y] == m[d[y]] for x,y in graph.out_edges(0)])))\n",
    "            cnt += 1\n",
    "            \n",
    "        return l\n",
    "    \n",
    "    else:\n",
    "        print('Inconsistente')\n",
    "    return []"
   ]
  },
  {
   "cell_type": "markdown",
   "metadata": {},
   "source": [
    "De seguida apresenta-se uma função que apenas imprime o circuito:"
   ]
  },
  {
   "cell_type": "code",
   "execution_count": 8,
   "metadata": {},
   "outputs": [],
   "source": [
    "def hierarchy_pos(G, root=None, width=1., vert_gap = 0.2, vert_loc = 0, xcenter = 0.5):\n",
    "\n",
    "    '''\n",
    "    From Joel's answer at https://stackoverflow.com/a/29597209/2966723.  \n",
    "    Licensed under Creative Commons Attribution-Share Alike \n",
    "    \n",
    "    If the graph is a tree this will return the positions to plot this in a \n",
    "    hierarchical layout.\n",
    "    \n",
    "    G: the graph (must be a tree)\n",
    "    \n",
    "    root: the root node of current branch \n",
    "    - if the tree is directed and this is not given, \n",
    "      the root will be found and used\n",
    "    - if the tree is directed and this is given, then \n",
    "      the positions will be just for the descendants of this node.\n",
    "    - if the tree is undirected and not given, \n",
    "      then a random choice will be used.\n",
    "    \n",
    "    width: horizontal space allocated for this branch - avoids overlap with other branches\n",
    "    \n",
    "    vert_gap: gap between levels of hierarchy\n",
    "    \n",
    "    vert_loc: vertical location of root\n",
    "    \n",
    "    xcenter: horizontal location of root\n",
    "    '''\n",
    "    if root is None:\n",
    "        if isinstance(G, nx.DiGraph):\n",
    "            root = next(iter(nx.topological_sort(G)))  #allows back compatibility with nx version 1.11\n",
    "        else:\n",
    "            root = random.choice(list(G.nodes))\n",
    "\n",
    "    def _hierarchy_pos(G, root, width=1., vert_gap = 0.2, vert_loc = 0, xcenter = 0.5, pos = None, parent = None):\n",
    "        '''\n",
    "        see hierarchy_pos docstring for most arguments\n",
    "\n",
    "        pos: a dict saying where all nodes go if they have been assigned\n",
    "        parent: parent of this branch. - only affects it if non-directed\n",
    "\n",
    "        '''\n",
    "    \n",
    "        if pos is None:\n",
    "            pos = {root:(xcenter,vert_loc)}\n",
    "        else:\n",
    "            pos[root] = (xcenter, vert_loc)\n",
    "        children = list(G.neighbors(root))\n",
    "        if not isinstance(G, nx.DiGraph) and parent is not None:\n",
    "            children.remove(parent)  \n",
    "        if len(children)!=0:\n",
    "            dx = width/len(children) \n",
    "            nextx = xcenter - width/2 - dx/2\n",
    "            for child in children:\n",
    "                nextx += dx\n",
    "                pos = _hierarchy_pos(G,child, width = dx, vert_gap = vert_gap, \n",
    "                                    vert_loc = vert_loc-vert_gap, xcenter=nextx,\n",
    "                                    pos=pos, parent = root)\n",
    "        return pos\n",
    "\n",
    "            \n",
    "    return _hierarchy_pos(G, root, width, vert_gap, vert_loc, xcenter)"
   ]
  },
  {
   "cell_type": "code",
   "execution_count": 9,
   "metadata": {},
   "outputs": [],
   "source": [
    "def showCircuito(G):\n",
    "    pos= hierarchy_pos(G)\n",
    "    lbs = nx.get_node_attributes(G,\"type\").copy()\n",
    "    rots = nx.get_node_attributes(G,\"r\")\n",
    "    lbs = {k : lbs[k] + \" \" +str(rots.get(k,\"\")) for k in lbs}\n",
    "    nx.draw_networkx(G,pos = pos,labels=lbs, \\\n",
    "                 node_color = \"#ffffff\", node_size = 600, font_color = \"#ff0000\")\n",
    "    pass"
   ]
  },
  {
   "cell_type": "markdown",
   "metadata": {},
   "source": [
    "### Exemplos"
   ]
  },
  {
   "cell_type": "code",
   "execution_count": 13,
   "metadata": {
    "scrolled": true
   },
   "outputs": [
    {
     "name": "stdout",
     "output_type": "stream",
     "text": [
      "1101010100101000100000000100111010000101110001110101011110001100\n",
      "('0010010110001000', {6: 21878, 7: 18041, 9: 6436, 11: 9608})\n"
     ]
    },
    {
     "data": {
      "image/png": "[encoded data removed]",
      "text/plain": [
       "<Figure size 432x288 with 1 Axes>"
      ]
     },
     "metadata": {},
     "output_type": "display_data"
    }
   ],
   "source": [
    "n = 4\n",
    "M = 7\n",
    "gama = 4/7\n",
    "\n",
    "def randInput(N):\n",
    "    res = random.choices([\"0\",\"1\"],k = N*16)\n",
    "    return \"\".join(res)\n",
    "\n",
    "k = randInput(n)\n",
    "\n",
    "G = get_circuito(n,M,gama)\n",
    "showCircuito(G)\n",
    "print(k)\n",
    "r = calcula_circuito(G,k,n)\n",
    "print(r)"
   ]
  },
  {
   "cell_type": "code",
   "execution_count": 14,
   "metadata": {},
   "outputs": [
    {
     "name": "stdout",
     "output_type": "stream",
     "text": [
      "Consistente\n"
     ]
    },
    {
     "data": {
      "text/plain": [
       "['1101010100101000100000000100111010000101110001110101011110001100']"
      ]
     },
     "execution_count": 14,
     "metadata": {},
     "output_type": "execute_result"
    }
   ],
   "source": [
    "inverte_circuito(G,'0010010110001000', {6: 21878, 7: 18041, 9: 6436, 11: 9608})"
   ]
  },
  {
   "cell_type": "code",
   "execution_count": 15,
   "metadata": {},
   "outputs": [
    {
     "name": "stdout",
     "output_type": "stream",
     "text": [
      "Inconsistente\n"
     ]
    },
    {
     "data": {
      "text/plain": [
       "[]"
      ]
     },
     "execution_count": 15,
     "metadata": {},
     "output_type": "execute_result"
    }
   ],
   "source": [
    "inverte_circuito(G,'0010010110001000', {6: 21878, 7: 18041, 9: 6436, 11: 9607})"
   ]
  }
 ],
 "metadata": {
  "kernelspec": {
   "display_name": "Python 3",
   "language": "python",
   "name": "python3"
  },
  "language_info": {
   "codemirror_mode": {
    "name": "ipython",
    "version": 3
   },
   "file_extension": ".py",
   "mimetype": "text/x-python",
   "name": "python",
   "nbconvert_exporter": "python",
   "pygments_lexer": "ipython3",
   "version": "3.8.3"
  }
 },
 "nbformat": 4,
 "nbformat_minor": 4
}
