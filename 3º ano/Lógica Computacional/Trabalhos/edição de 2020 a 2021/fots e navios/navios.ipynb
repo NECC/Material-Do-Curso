{
 "cells": [
  {
   "cell_type": "markdown",
   "metadata": {},
   "source": [
    "# Navios"
   ]
  },
  {
   "cell_type": "markdown",
   "metadata": {},
   "source": [
    "**Grupo 7:**\n",
    "\n",
    "- Luís Almeida A84180\n",
    "- João Pedro Antunes A86813 "
   ]
  },
  {
   "cell_type": "markdown",
   "metadata": {},
   "source": [
    "Pretende-se construir um  autómato híbrido que modele uma situação definida por 3 navios a navegar num lago infinito. Cada navio é caracterizado pela sua posição no plano $\\,(x,y)\\,$, a sua rota medida num ângulo com o eixo horizontal em unidades de $15^o$, e uma velocidade que assume apenas 2 valores:  $1\\, \\texttt{m/s}\\,$ (“low”) e $\\,10\\,\\mathtt{m/s}\\,$ (“high”).\n",
    "   - Os navios conhecem o estado uns dos outros.\n",
    "   - Na presença de uma eminente colisão entre dois navios (ver notas abaixo) , ambos os navios passam à velocidade “low” e mudam a rota, para bombordo (esquerda)  ou estibordo (direita) em não mais que uma unidade de $\\,15^o$. Após se afastarem para uma distância de segurança  regressam à velocidade “high”.\n",
    "   - Pretende-se verificar que realmente os navios navegam sem colisões."
   ]
  },
  {
   "cell_type": "markdown",
   "metadata": {},
   "source": [
    "## Modelação do Problema num Autómato Híbrido"
   ]
  },
  {
   "cell_type": "markdown",
   "metadata": {},
   "source": [
    "Vamos então modelar a situação apresentada num autómato híbrido fazendo a distinção entre a componente discreta e a componente contínua. Vamos descrever cada navio como um triplo $(x,y,t)$ em que $x$ e $y$ correspondem à posição no plano do navio e $t$ corresponde ao tempo relativo desse navio. Em termos discretos, temos o seguinte:\n",
    "\n",
    "- $3$ modos, **INIT, HIGH, LOW**;\n",
    "\n",
    "- 24 rotações discretas, descrevendo os ângulos de $0^\\circ$ a $345^\\circ$ em intervalos regulares de $15^\\circ$;\n",
    "\n",
    "Podemos dividir cada um dos modos em sub-modos consoante a inclinação (rota) do navio. Sendo assim, para representarmos os modos de **um único** navio no problema proposto, precisamos de pelo menos $24 \\times 3 = 72$ estados. Como resultado, teremos $72^{N}$ estados, onde $N$ é o número de navios do sistema. Vamos descrever todos os $N$ navios em todas as combinações de estados possíveis, e conjugando as condições de transição.\n",
    "Ora, em termos contínuos, temos:\n",
    "\n",
    "- $(x,y)$ que representam as coordenadas de cada navio\n",
    "\n",
    "- $t$ que representa o tempo relativo a cada navio\n",
    "\n",
    "Mais tarde apresentaremos o *flow* e as transições *timed* e *untimed*.\n",
    "\n",
    "\n",
    "Para modelarmos este autómato num FOTS e de seguida podermos demonstrar propriedades sobre ele, vamos necessitar de uma variável $x$, $y$ e $t$ contínua, bem como uma variável discreta que indique o modo e uma outra que indique a inclinação de cada navio. De seguida apresenta-se uma função que declara as variáveis de cada estado:"
   ]
  },
  {
   "cell_type": "code",
   "execution_count": 1,
   "metadata": {},
   "outputs": [],
   "source": [
    "from z3 import *\n",
    "import math\n",
    "\n",
    "ships = 3 #número de navios\n",
    "maxDegs = 15 #valor do intervalo da inclinação do navio\n",
    "divsDegs = 360//maxDegs #número de intervalos c a dada inclinação\n",
    "risk = 20 #coeficiente de risco\n",
    "vMax = 10 #velocidade máxima do navio\n",
    "vMin = 1 #velocidade mínima do navio\n",
    "\n",
    "\n",
    "inclin = [maxDegs*x for x in range(divsDegs)] #todas as inclinações possíveis\n",
    "\n",
    "Mode, (LOW,HIGH,INIT) = EnumSort('Mode', ('LOW','HIGH','INIT')) #modo de operação do navio\n",
    "\n",
    "def declare(i):\n",
    "    s = {}\n",
    "    for ship in range(ships): #cada navio tem as suas variáveis\n",
    "        s[ship] = {}\n",
    "        s[ship]['x'] = Real(str(ship)+' X '+str(i)) \n",
    "        s[ship]['y'] = Real(str(ship)+' Y '+str(i))\n",
    "        s[ship]['route'] = Int(str(ship)+' R '+str(i))\n",
    "        s[ship]['mode'] = Const(str(ship)+' M '+str(i),Mode)\n",
    "        s[ship]['time'] = Real(str(ship) + ' T '+str(i))\n",
    "    return s"
   ]
  },
  {
   "cell_type": "markdown",
   "metadata": {},
   "source": [
    "Temos agora de implementar o predicado que inicializa o FOTS. Como tal, vamos olhar para o que pretendemos que aconteça como situação inicial do nosso sistema:\n",
    "\n",
    "- O modo de cada navio terá de ser o modo $INIT$, bem como o seu tempo terá de ser $0$:\n",
    "\n",
    "$$\n",
    "mode == INIT \\wedge t == 0\n",
    "$$\n",
    "\n",
    "- O navio toma um sub-modo, ou seja, o navio apresenta uma inclinação válida conforme descrito anteriormente:\n",
    "\n",
    "$$\n",
    "\\bigvee_{\\rho} route == \\rho, \\quad \\forall \\rho \\in inclin\n",
    "$$\n",
    "\n",
    "- Navios diferentes não podem ter a mesma posição, ou seja, dado um navio A:\n",
    "\n",
    "$$\n",
    "navioA_{x} \\ne navioB_{x} \\vee navioA_{y} \\ne NavioB_{y}, \\quad \\text{para todo o navioB}\n",
    "$$\n",
    "\n",
    "O predicado $init$ será então uma conjunção de todos estes \"sub-predicados\" aplicados a todos os navios. De seguida apresenta-se a implementação do mesmo:"
   ]
  },
  {
   "cell_type": "code",
   "execution_count": 2,
   "metadata": {},
   "outputs": [],
   "source": [
    "def init(state):\n",
    "    startMode = [(state[ship]['mode']) == INIT for ship in range(ships)] #os barcos inicializam em estado INIT\n",
    "    startTime = [(state[ship]['time'] == 0) for ship in range(ships)] #o tempo inicial de cada barco é 0\n",
    "    \n",
    "    startRoute = []\n",
    "    for ship in range(ships):\n",
    "        pred = Or([state[ship]['route'] == ang for ang in inclin]) #garante que a rota é inicializada com um ângulo\n",
    "        startRoute.append(pred)\n",
    "\n",
    "    startPos = [] #garante que barcos diferentes não têm a mesma posição\n",
    "    for A in range(ships):\n",
    "        for B in range(ships):\n",
    "            if A > B:\n",
    "                pred = Or(state[A]['x'] != state[B]['x'], state[A]['y'] != state[B]['y']) \n",
    "                startPos.append(pred)\n",
    "\n",
    "    cond = startMode + startTime + startRoute + startPos \n",
    "    return And(cond)"
   ]
  },
  {
   "cell_type": "markdown",
   "metadata": {},
   "source": [
    "Vamos então definir as transições do FOTS. Para este efeito, temos de completar a nossa definição do autómato com os *flows* e com as transições *timed* e *untimed*. Tendo em conta a modelação anteriormente feita dos estados discretos, podemos então analisar as componentes contínuas do autómato começando por definir o flow em cada modo. Sabemos que a variável $V$ de velocidade do navio pode ser interpretada como uma constante interna a cada estado *HIGH* e *LOW*, assim, o deslocamento total do navio seria representado por, \n",
    "\n",
    "$$\n",
    "\\Delta = v\\cdot |t_{1} - t_{0}|\n",
    "$$\n",
    "\n",
    "com $V$ constante a $1$ ou $10$, e $\\Delta$ o deslocamento total do navio.\n",
    "O deslocamento em cada componente, entretanto, será dado por uma relação entre $\\Delta$ e os valores de seno e cosseno do ângulo associado à rota do navio, que é descrita pelo seguinte sistema de equações:\n",
    "\n",
    "$$\n",
    "\\begin{cases} \\Delta_x = \\Delta \\cdot cos(\\rho)\n",
    "\\\\\n",
    "\\\\ \\Delta_y = \\Delta \\cdot sin(\\rho) \n",
    "\\end{cases}\n",
    "$$\n",
    "\n",
    "sendo $\\rho$ a inclinação do navio, também constante consoante o estado discreto \"ativo\" do autómato de cada navio. Sendo assim, o flow em cada modo será representado (mas não unicamente) por uma conjunção dos sistemas de equações (todas as equações acima são lineares e contínuas) de cada navio que determinam o seu deslocamento. Definimos então a primeira restrição no *z3*, para a ocorrência de uma transição *timed*."
   ]
  },
  {
   "cell_type": "code",
   "execution_count": 3,
   "metadata": {},
   "outputs": [],
   "source": [
    "def deltaXY(now,prox,ship,vel):\n",
    "    p = []\n",
    "    for angle in inclin:\n",
    "        angVer = (now[ship]['route'] == angle)\n",
    "        deltaX = (prox[ship]['x'] - now[ship]['x'] == cosseno(angle)*vel*(prox[ship]['time'] - now[ship]['time']))\n",
    "        deltaY = (prox[ship]['y'] - now[ship]['y'] == seno(angle)*vel*(prox[ship]['time'] - now[ship]['time']))\n",
    "        p.append(And(angVer,deltaX,deltaY))\n",
    "    return Or(p)\n",
    "\n",
    "\n",
    "def cosseno(ang):\n",
    "    return math.cos(math.radians(ang))\n",
    "\n",
    "def seno(ang):\n",
    "    return math.sin(math.radians(ang))"
   ]
  },
  {
   "cell_type": "markdown",
   "metadata": {},
   "source": [
    "No entanto, temos de adicionar ao *flow* a condição que não permite a ocorrência de uma transição *timed* enquanto o navio se encontra dentro da distância de risco. É de conhecimento no problema que um navio apenas transita entre os estados de velocidade e rotação consoante uma colisão iminente, dada por uma constante de risco para representar uma distância de segurança entre os navios.\n",
    "Tendo a distância de segurança ($r$) poderíamos calcular uma colisão iminente (ou uma invasão do espaço de segurança) pela fórmula simples de distância entre pontos:\n",
    "\n",
    "$$\n",
    "D(P_0,P_1) = (x_0 - x_1)^2 + (y_0 - y_1)^2 \n",
    "\\\\\\wedge\n",
    "\\\\D(P_0,P_1)\\leq r\n",
    "$$\n",
    "\n",
    "A fórmula proposta, entretanto, não se aplica a equações lineares, levando à indecisão do problema. A solução mais adequada seria, então, trabalharmos com a distância um pouco menos restrita do que a descrita. Se a fórmula anterior descrevia uma circunferência para a distância entre os pontos, descreveremos nossa distância com um quadrado tangente a esta circunferência (isto é, que tenha a circunferência inscrita em seu interior). Definiremos então:\n",
    "\n",
    "$$\n",
    "D(P_0,P_1) = max\\{|(x_0 - x_1)|,|(y_0 - y_1)|\\}\n",
    "\\\\\\wedge\n",
    "\\\\D(P_0,P_1)\\leq r\n",
    "$$\n",
    "\n",
    "Temos ainda que levar em conta a velocidade da movimentação dos barcos, considerando que, com a existência de eventos assíncronos, os barcos não podem estar no mesmo ponto em tempos próximos, mas não necessariamente iguais. Por fim, então, teremos:\n",
    "\n",
    "$$\n",
    "D(P_0,P_1) = max\\{|(x_0 - x_1)|,|(y_0 - y_1)|,v|t_0 - t_1|\\}\n",
    "\\\\\\wedge\n",
    "\\\\D(P_0,P_1)\\leq r\n",
    "$$\n",
    "\n",
    "Descrevemos, então, o obtido, em *z3*:"
   ]
  },
  {
   "cell_type": "code",
   "execution_count": 4,
   "metadata": {},
   "outputs": [],
   "source": [
    "def modLess(x,z,r):\n",
    "    return And((x <= z + r), (z <= x + r))\n",
    "\n",
    "def distance(state,boatA,boatB,const,vMed):\n",
    "    xDif = modLess(state[boatA]['x'],state[boatB]['x'],const)\n",
    "    yDif = modLess(state[boatA]['y'],state[boatB]['y'],const)\n",
    "    tDif = modLess(state[boatA]['time'],state[boatB]['time'],const/vMed)\n",
    "    return And(xDif,yDif,tDif)"
   ]
  },
  {
   "cell_type": "markdown",
   "metadata": {},
   "source": [
    "Basta então garantirmos como condição de um dado navio $N$ fazer uma transição *timed* que:  \n",
    "\n",
    "$$\n",
    "\\neg (\\forall S \\in Navios \\cdot ( S \\neq N \\rightarrow D(N,S) \\leq r ))\n",
    "$$\n",
    "\n",
    "Teremos então, a tradução da fórmula que determina se o navio está em distância de risco em *z3*:"
   ]
  },
  {
   "cell_type": "code",
   "execution_count": 5,
   "metadata": {},
   "outputs": [],
   "source": [
    "def iminColis(state,boat):\n",
    "    iminente = [distance(state,boat,target,risk,vMax) for target in range(ships) if target != boat]\n",
    "    return Or(iminente)"
   ]
  },
  {
   "cell_type": "markdown",
   "metadata": {},
   "source": [
    "Podemos agora, então, definir as transições *timed* do problema, as que não apresentam mudança de estados discretos, apenas passagem de tempo e deslocamento dos barcos, com variações contínuas. Nesta transição verificamos se o deslocamento do navio foi condizente com as regras apresentadas, que o deslocamento não violou as regras de mudança de estado de velocidade impostas anteriormente e que não existe nenhuma colisão iminente:"
   ]
  },
  {
   "cell_type": "code",
   "execution_count": 6,
   "metadata": {},
   "outputs": [],
   "source": [
    "def timed(now,prox,ship):\n",
    "    predLow = And(now[ship]['mode'] == LOW, now[ship]['mode'] == prox[ship]['mode'], prox[ship]['time'] > now[ship]['time'], now[ship]['route'] == prox[ship]['route'], deltaXY(now,prox,ship,vMin),Not(iminColis(prox,ship)))\n",
    "    \n",
    "    predHigh = And(now[ship]['mode'] == HIGH, now[ship]['mode'] == prox[ship]['mode'], prox[ship]['time'] > now[ship]['time'], now[ship]['route'] == prox[ship]['route'], deltaXY(now,prox,ship,vMax), Not(iminColis(prox,ship)))    \n",
    "    \n",
    "    return Or(predLow,predHigh)"
   ]
  },
  {
   "cell_type": "markdown",
   "metadata": {},
   "source": [
    "Vamos agora definir as transições *untimed*. Estas transições são eventos assíncronos que ocorrem entre os diferentes modos e sub-modos consoante determinadas condições. De seguida apresenta-se uma ilustração (não muito fiel) de um exemplo de um autómato com **rotações discretas de $90^\\circ$**, nas mesmas condições descritas, para **um único** navio, (ciano = *HIGH*, vermelho = *LOW* e azul = *INIT*):\n",
    "\n",
    "![automato de um único navio com rotações de 90°](automato1.png)"
   ]
  },
  {
   "cell_type": "markdown",
   "metadata": {},
   "source": [
    "Ilustrada a situação com o anterior autómato teríamos de adaptar para nosso caso com rotações de $15^\\circ$.\n",
    "Comecemos por definir as condições de transição *untimed* entre os ângulos das rotas dos navios. Antes de definirmos as interações entre estados de velocidade e rota comecemos apenas por garantir as regras básicas acerca das rotações. Isto é, garantir que cada rotação executada não passe de $15^\\circ$ e que a rota resultante esteja compreendida entre $0^\\circ$ e $345^\\circ$, temos então a seguinte restrição para modelarmos:\n",
    "\n",
    "$$\n",
    "\\begin{cases} \\rho' = (\\rho + 15) \\mod 360 \n",
    "\\\\\\quad\\quad\\vee\n",
    "\\\\\\rho' = (\\rho - 15) \\mod 360\n",
    "\\end{cases}\n",
    "$$\n",
    "\n",
    "Com $\\rho$ a rota atual do navio, e $\\rho'$ a rota do estado seguinte. A restrição descrita não é modelável em *z3* por se utilizar da operação módulo. Porém, como cada rota é um sub-modo, então sabemos que $\\rho$ é constante, tornando assim a operação $(\\rho \\pm 15) \\mod{360}$ exequível.  "
   ]
  },
  {
   "cell_type": "code",
   "execution_count": 7,
   "metadata": {},
   "outputs": [],
   "source": [
    "def validRot(now,prox,boat):\n",
    "    valid = []\n",
    "    \n",
    "    for ang in inclin:\n",
    "        left = (ang + maxDegs) % 360\n",
    "        right = (ang - maxDegs) % 360\n",
    "        pred = And(now[boat]['route'] == ang, Or(prox[boat]['route'] == left, prox[boat]['route'] == right))\n",
    "        valid.append(pred)\n",
    "    return Or(valid)"
   ]
  },
  {
   "cell_type": "markdown",
   "metadata": {},
   "source": [
    "Temos então definidas todos os requisitos para descrevermos as transições *untimed* do sistema. Estas transições representam apenas mudanças discretas denotadas por uma mudança no *flow* do autómato de um navio. Queremos que o FOTS tenha o comportamento seguinte:\n",
    "\n",
    "- $trans(init,high)$: acontece quando não existe uma colisão iminente \n",
    "\n",
    "\n",
    "- $trans(init,low)$: acontece quando existe uma colisão iminente\n",
    "\n",
    "\n",
    "- $trans(high,low)$: acontece quando existe uma colisão iminente\n",
    "\n",
    "\n",
    "- $trans(low,high)$: acontece quando não existe uma colisão iminente\n",
    "\n",
    "Temos então descrito:"
   ]
  },
  {
   "cell_type": "code",
   "execution_count": 8,
   "metadata": {},
   "outputs": [],
   "source": [
    "def untimed(now,prox,ship):\n",
    "    init_high = And(prox[ship]['time'] == now[ship]['time'], prox[ship]['x'] == now[ship]['x'], prox[ship]['y'] == now[ship]['y'], Not(iminColis(prox,ship)), now[ship]['mode'] == INIT, prox[ship]['mode'] == HIGH, now[ship]['route'] == prox[ship]['route'])\n",
    "    \n",
    "    init_low = And(prox[ship]['time'] == now[ship]['time'], prox[ship]['x'] == now[ship]['x'], prox[ship]['y'] == now[ship]['y'], iminColis(prox,ship), now[ship]['mode'] == INIT, prox[ship]['mode'] == LOW,validRot(now,prox,ship))\n",
    "    \n",
    "    high_low = And(prox[ship]['time'] == now[ship]['time'], prox[ship]['x'] == now[ship]['x'], prox[ship]['y'] == now[ship]['y'], iminColis(prox,ship), now[ship]['mode'] == HIGH, prox[ship]['mode'] == LOW,validRot(now,prox,ship))\n",
    "    \n",
    "    low_high = And(prox[ship]['time'] == now[ship]['time'], prox[ship]['x'] == now[ship]['x'], prox[ship]['y'] == now[ship]['y'], Not(iminColis(prox,ship)), now[ship]['mode'] == LOW, prox[ship]['mode'] == HIGH, now[ship]['route'] == prox[ship]['route'])  \n",
    "    \n",
    "    return Or(init_high,init_low,high_low,low_high)"
   ]
  },
  {
   "cell_type": "markdown",
   "metadata": {},
   "source": [
    "Ou seja, para cada transição *untimed* possível, verificamos que as variáveis contínuas matém-se, e que as discretas tomam um valor válido consoante as condições apresentadas sobre os módulos de velocidade e rotação."
   ]
  },
  {
   "cell_type": "markdown",
   "metadata": {},
   "source": [
    "E por fim, para unificarmos todas as transições de todos os navios envolvidos no sistema, criamos uma transição única que envolve todos os navios e obriga a execução de uma transição *timed* ou *untimed* por barco. Teremos então: "
   ]
  },
  {
   "cell_type": "code",
   "execution_count": 9,
   "metadata": {},
   "outputs": [],
   "source": [
    "def trans(now,prox):\n",
    "    actions = []\n",
    "    for ship in range(ships):\n",
    "        actions.append(Or(timed(now,prox,ship),untimed(now,prox,ship)))\n",
    "    return And(actions)"
   ]
  },
  {
   "cell_type": "markdown",
   "metadata": {},
   "source": [
    "Tendo então as devidas restrições definidas nas transições do autómato construído, podemos agora definir uma função de geração de traços, em que se gera um conjunto de $k$ estados, e garantimos que entre cada dois pares de estados consecutivos há uma relação de transição. Isto é:\n",
    "\n",
    "$$ trans( \\alpha_{i} , \\alpha_{i+1}), \\quad \\forall 0 \\le i \\le k-1 $$"
   ]
  },
  {
   "cell_type": "code",
   "execution_count": 10,
   "metadata": {},
   "outputs": [
    {
     "name": "stdout",
     "output_type": "stream",
     "text": [
      "==========\n",
      "\n",
      "\n",
      "state:  0\n",
      "0 x = -14.64466094067262\n",
      "0 y = -7.26017904234912\n",
      "0 route = 60\n",
      "0 mode = INIT\n",
      "0 time = 0.0\n",
      "\n",
      "\n",
      "1 x = -13.64466094067262\n",
      "1 y = 12.739820957650881\n",
      "1 route = 225\n",
      "1 mode = INIT\n",
      "1 time = 0.0\n",
      "\n",
      "\n",
      "2 x = -12.64466094067262\n",
      "2 y = 32.73982095765088\n",
      "2 route = 315\n",
      "2 mode = INIT\n",
      "2 time = 0.0\n",
      "\n",
      "\n",
      "==========\n",
      "\n",
      "\n",
      "state:  1\n",
      "0 x = -14.64466094067262\n",
      "0 y = -7.26017904234912\n",
      "0 route = 45\n",
      "0 mode = LOW\n",
      "0 time = 0.0\n",
      "\n",
      "\n",
      "1 x = -13.64466094067262\n",
      "1 y = 12.739820957650881\n",
      "1 route = 240\n",
      "1 mode = LOW\n",
      "1 time = 0.0\n",
      "\n",
      "\n",
      "2 x = -12.64466094067262\n",
      "2 y = 32.73982095765088\n",
      "2 route = 330\n",
      "2 mode = LOW\n",
      "2 time = 0.0\n",
      "\n",
      "\n",
      "==========\n",
      "\n",
      "\n",
      "state:  2\n",
      "0 x = 0.0\n",
      "0 y = 7.384481898323501\n",
      "0 route = 45\n",
      "0 mode = LOW\n",
      "0 time = 20.710678118654748\n",
      "\n",
      "\n",
      "1 x = -20.5\n",
      "1 y = 0.8660254037844385\n",
      "1 route = 240\n",
      "1 mode = LOW\n",
      "1 time = 13.710678118654746\n",
      "\n",
      "\n",
      "2 x = 2.6932362283315734\n",
      "2 y = 23.8844818983235\n",
      "2 route = 330\n",
      "2 mode = LOW\n",
      "2 time = 17.710678118654748\n",
      "\n",
      "\n",
      "==========\n",
      "\n",
      "\n",
      "state:  3\n",
      "0 x = 0.0\n",
      "0 y = 7.384481898323501\n",
      "0 route = 45\n",
      "0 mode = HIGH\n",
      "0 time = 20.710678118654748\n",
      "\n",
      "\n",
      "1 x = -21.0\n",
      "1 y = 0.0\n",
      "1 route = 240\n",
      "1 mode = LOW\n",
      "1 time = 14.710678118654746\n",
      "\n",
      "\n",
      "2 x = 2.6932362283315734\n",
      "2 y = 23.8844818983235\n",
      "2 route = 330\n",
      "2 mode = HIGH\n",
      "2 time = 17.710678118654748\n",
      "\n",
      "\n",
      "==========\n",
      "\n",
      "\n",
      "state:  4\n",
      "0 x = 7.071067811865476\n",
      "0 y = 14.455549710188977\n",
      "0 route = 45\n",
      "0 mode = HIGH\n",
      "0 time = 21.710678118654748\n",
      "\n",
      "\n",
      "1 x = -26.942893218813456\n",
      "1 y = -10.293392998941439\n",
      "1 route = 240\n",
      "1 mode = LOW\n",
      "1 time = 26.596464556281642\n",
      "\n",
      "\n",
      "2 x = 53.66564199067965\n",
      "2 y = -5.544450289811023\n",
      "2 route = 330\n",
      "2 mode = HIGH\n",
      "2 time = 23.596464556281646\n",
      "\n",
      "\n",
      "==========\n",
      "\n",
      "\n",
      "state:  5\n",
      "0 x = 14.142135623730953\n",
      "0 y = 21.526617522054455\n",
      "0 route = 45\n",
      "0 mode = HIGH\n",
      "0 time = 22.710678118654744\n",
      "\n",
      "\n",
      "1 x = -26.942893218813456\n",
      "1 y = -10.293392998941439\n",
      "1 route = 240\n",
      "1 mode = HIGH\n",
      "1 time = 26.596464556281642\n",
      "\n",
      "\n",
      "2 x = 62.32589602852403\n",
      "2 y = -10.544450289811026\n",
      "2 route = 330\n",
      "2 mode = HIGH\n",
      "2 time = 24.596464556281646\n",
      "\n",
      "\n"
     ]
    }
   ],
   "source": [
    "def gera_traco(declare,init,trans,k):\n",
    "    trace = [declare(i) for i in range(k)]\n",
    "    s = Solver()\n",
    "    \n",
    "    s.add(init(trace[0]))\n",
    "    \n",
    "    for i in range(k-1):\n",
    "        s.add(trans(trace[i],trace[i+1]))\n",
    "    \n",
    "    r = s.check()\n",
    "    if r == sat:\n",
    "        m = s.model()\n",
    "        for i in range(k):\n",
    "            print(\"==========\\n\\n\\nstate: \",i)\n",
    "            for v in trace[i]:\n",
    "                for h in trace[i][v]:\n",
    "                    if trace[i][v][h].sort() != RealSort():\n",
    "                        print(v,h, \"=\", m[trace[i][v][h]])\n",
    "                    else:\n",
    "                        print(v,h, '=', float(m[trace[i][v][h]].numerator_as_long())/float(m[trace[i][v][h]].denominator_as_long()))\n",
    "                print(\"\\n\")\n",
    "        return\n",
    "    \n",
    "    print('UNSAT')\n",
    "    return \n",
    "\n",
    "\n",
    "gera_traco(declare,init,trans,6)"
   ]
  },
  {
   "cell_type": "markdown",
   "metadata": {},
   "source": [
    "## Verificação de que não existem colisões"
   ]
  },
  {
   "cell_type": "markdown",
   "metadata": {},
   "source": [
    "Temos agora de verificar que não existem colisões no sistema modelado. Como estamos a trabalhar sobre um FOTS, podemos usar o procedimento *BMC* para verificar propriedades em traços limitados do programa com $k$ estados diferentes. Como tal, temos simplesmente de definir a propriedade que indica que não existe uma colisão. Basta garantirmos que, para quaisquer $2$ navios $S$ e $D$, caso o tempo deles seja igual, então não estão na mesma posição. Temos então:\n",
    "\n",
    "$$\n",
    "\\forall_{S,D}\\cdot (S_{t} == D_{t}) \\rightarrow (S_{x} \\ne D_{x} \\vee S_{y} \\ne D_{y}), \\quad S \\ne D \n",
    "$$\n",
    "\n",
    "De seguida apresenta-se a tradução desta propriedade em z3:"
   ]
  },
  {
   "cell_type": "code",
   "execution_count": 11,
   "metadata": {},
   "outputs": [],
   "source": [
    "def prop(state):\n",
    "    startPos = []\n",
    "    for A in range(ships):\n",
    "        for B in range(ships):\n",
    "            if A > B:\n",
    "                pred = Implies(state[A]['time'] == state[B]['time'],\n",
    "        Or(state[A]['x'] != state[B]['x'], state[A]['y'] != state[B]['y'])) \n",
    "                startPos.append(pred)\n",
    "\n",
    "    return And(startPos)"
   ]
  },
  {
   "cell_type": "code",
   "execution_count": 12,
   "metadata": {},
   "outputs": [
    {
     "name": "stdout",
     "output_type": "stream",
     "text": [
      "Property is valid up to traces of length 5\n"
     ]
    }
   ],
   "source": [
    "def bmc_always(declare,init,trans,inv,K):\n",
    "    for k in range(1,K+1):\n",
    "        s = Solver()\n",
    "        trace = [declare(i) for i in range(k)]\n",
    "        s.add(init(trace[0]))\n",
    "        for i in range(k - 1):\n",
    "            s.add(trans(trace[i], trace[i + 1]))\n",
    "        s.add(Not(inv(trace[k - 1])))\n",
    "        if s.check() == sat:\n",
    "            m = s.model()\n",
    "            for i in range(k):\n",
    "                print(\"==========\\n\\n\\nstate: \",i)\n",
    "                for v in trace[i]:\n",
    "                    if v != 'time':\n",
    "                        for h in trace[i][v]:\n",
    "                            if trace[i][v][h].sort() != RealSort():\n",
    "                                print(v,h, \"=\", m[trace[i][v][h]])\n",
    "                            else:\n",
    "                                print(v,h, '=', float(m[trace[i][v][h]].numerator_as_long())/float(m[trace[i][v][h]].denominator_as_long()))\n",
    "                    else:\n",
    "                        print(v, '=', float(m[trace[i][v]].numerator_as_long())/float(m[trace[i][v]].denominator_as_long()))\n",
    "                    print(\"\\n\")\n",
    "            return\n",
    "        \n",
    "    print (\"Property is valid up to traces of length \"+str(K))\n",
    "    return\n",
    "\n",
    "bmc_always(declare,init,trans,prop,5)"
   ]
  },
  {
   "cell_type": "markdown",
   "metadata": {},
   "source": [
    "## Ilustração de estados válidos de um sistema\n",
    "\n",
    "A fim de ilustrar algumas situações e visualizar mais facilmente os estados de um traço do sistema, desenvolveu-se uma variação ao sistema pedido. Nesta variação, é utilizado um \"tempo global\" que varia igualmente para todos os barcos em todos os estados.\n",
    "Com esta variação torna-se possível a geração de uma componente gráfica para acompanhar o presente estado do navios em um plano cartesiano.\n",
    "\n",
    "Para tanto, utilizaremos as *libraries* de python *matplotlib* e *numpy*\n",
    "\n",
    "A seguir, apresentamos o código para a geração pretendida:"
   ]
  },
  {
   "cell_type": "code",
   "execution_count": 13,
   "metadata": {},
   "outputs": [],
   "source": [
    "import matplotlib.pyplot as plt\n",
    "import numpy as np\n",
    "import math\n",
    "\n",
    "\n",
    "ships = 3 #número de navios\n",
    "maxDegs = 15 #valor do intervalo da inclinação do navio\n",
    "divsDegs = 360//maxDegs #número de intervalos c a dada inclinação\n",
    "risk = 5 #coeficiente de risco\n",
    "vMax = 10 #velocidade máxima do navio\n",
    "vMin = 1 #velocidade mínima do navio"
   ]
  },
  {
   "cell_type": "markdown",
   "metadata": {},
   "source": [
    "A maior diferença nesta variação apresenta-se a seguir, na função de transição, onde garantimos que os navios estejam todos sincronizados, isto é, apresentam o mesmo tempo em todos os estados. \n",
    "\n",
    "Nesta função de transição também, foi adicionada uma nova transição *untimed* que permite a constância de um navio em um dado estado, esta adição faz-se necessária pelo que se o tempo de todos os navios deve ser igual, navios não afetados por uma colisão iminente não sofrem alterações em funções *untimed*, podendo permanecer constante durante a troca de estados dos demais navios."
   ]
  },
  {
   "cell_type": "code",
   "execution_count": 14,
   "metadata": {},
   "outputs": [],
   "source": [
    "def trans(now,prox):\n",
    "    actions = []\n",
    "    for ship in range(ships):\n",
    "        predLow = And(now[ship]['mode'] == LOW, now[ship]['mode'] == prox[ship]['mode'], prox[ship]['time'] > now[ship]['time'], now[ship]['route'] == prox[ship]['route'], deltaXY(now,prox,ship,vMin),Not(iminColis(prox,ship))) \n",
    "        predHigh = And(now[ship]['mode'] == HIGH, now[ship]['mode'] == prox[ship]['mode'], prox[ship]['time'] > now[ship]['time'], now[ship]['route'] == prox[ship]['route'], deltaXY(now,prox,ship,vMax), Not(iminColis(prox,ship)))\n",
    "        timed = Or(predLow,predHigh)\n",
    "\n",
    "\n",
    "        init_high = And(prox[ship]['time'] == now[ship]['time'], prox[ship]['x'] == now[ship]['x'], prox[ship]['y'] == now[ship]['y'], Not(iminColis(prox,ship)), now[ship]['mode'] == INIT, prox[ship]['mode'] == HIGH, now[ship]['route'] == prox[ship]['route'])\n",
    "        init_low = And(prox[ship]['time'] == now[ship]['time'], prox[ship]['x'] == now[ship]['x'], prox[ship]['y'] == now[ship]['y'], iminColis(prox,ship), now[ship]['mode'] == INIT, prox[ship]['mode'] == LOW,validRot(now,prox,ship))\n",
    "        high_low = And(prox[ship]['time'] == now[ship]['time'], prox[ship]['x'] == now[ship]['x'], prox[ship]['y'] == now[ship]['y'], iminColis(prox,ship), now[ship]['mode'] == HIGH, prox[ship]['mode'] == LOW,validRot(now,prox,ship))\n",
    "        low_high = And(prox[ship]['time'] == now[ship]['time'], prox[ship]['x'] == now[ship]['x'], prox[ship]['y'] == now[ship]['y'], Not(iminColis(prox,ship)), now[ship]['mode'] == LOW, prox[ship]['mode'] == HIGH, now[ship]['route'] == prox[ship]['route'])\n",
    "        const = And(prox[ship]['time'] == now[ship]['time'], prox[ship]['x'] == now[ship]['x'], prox[ship]['y'] == now[ship]['y'], now[ship]['route'] == prox[ship]['route'], Not(iminColis(prox,ship)), now[ship]['mode'] == prox[ship]['mode'], now[ship]['mode'] == HIGH)\n",
    "        untimed = Or(init_high,init_low,high_low,low_high,const)\n",
    "\n",
    "        actions.append(Or(timed,untimed))\n",
    "\n",
    "    \n",
    "    return And(actions)\n"
   ]
  },
  {
   "cell_type": "markdown",
   "metadata": {},
   "source": [
    "A seguir, apresentam-se as funções responsáveis por fazer o \"plot\" e gerar um traço compatível."
   ]
  },
  {
   "cell_type": "code",
   "execution_count": 20,
   "metadata": {
    "scrolled": false
   },
   "outputs": [
    {
     "name": "stdout",
     "output_type": "stream",
     "text": [
      "==========\n",
      "\n",
      "\n",
      "state:  0\n",
      "0 x = -135.06434875486053\n",
      "0 y = 117.27052836400652\n",
      "0 route = 315\n",
      "0 mode = INIT\n",
      "0 time = 0.0\n",
      "\n",
      "\n",
      "1 x = 7.9107564457231385\n",
      "1 y = 13.70183209029545\n",
      "1 route = 225\n",
      "1 mode = INIT\n",
      "1 time = 0.0\n",
      "\n",
      "\n",
      "2 x = 8.306294268009296\n",
      "2 y = 18.701832090295447\n",
      "2 route = 195\n",
      "2 mode = INIT\n",
      "2 time = 0.0\n",
      "\n",
      "\n"
     ]
    },
    {
     "data": {
      "image/png": "[encoded data removed]",
      "text/plain": [
       "<Figure size 432x288 with 1 Axes>"
      ]
     },
     "metadata": {
      "needs_background": "light"
     },
     "output_type": "display_data"
    },
    {
     "name": "stdout",
     "output_type": "stream",
     "text": [
      "==========\n",
      "\n",
      "\n",
      "state:  1\n",
      "0 x = -135.06434875486053\n",
      "0 y = 117.27052836400652\n",
      "0 route = 315\n",
      "0 mode = HIGH\n",
      "0 time = 0.0\n",
      "\n",
      "\n",
      "1 x = 7.9107564457231385\n",
      "1 y = 13.70183209029545\n",
      "1 route = 240\n",
      "1 mode = LOW\n",
      "1 time = 0.0\n",
      "\n",
      "\n",
      "2 x = 8.306294268009296\n",
      "2 y = 18.701832090295447\n",
      "2 route = 210\n",
      "2 mode = LOW\n",
      "2 time = 0.0\n",
      "\n",
      "\n"
     ]
    },
    {
     "data": {
      "image/png": "[encoded data removed]",
      "text/plain": [
       "<Figure size 432x288 with 1 Axes>"
      ]
     },
     "metadata": {
      "needs_background": "light"
     },
     "output_type": "display_data"
    },
    {
     "name": "stdout",
     "output_type": "stream",
     "text": [
      "==========\n",
      "\n",
      "\n",
      "state:  2\n",
      "0 x = -23.189358213140192\n",
      "0 y = 5.3955378222861565\n",
      "0 route = 315\n",
      "0 mode = HIGH\n",
      "0 time = 15.821512891446265\n",
      "\n",
      "\n",
      "1 x = 0.0\n",
      "1 y = 0.0\n",
      "1 route = 240\n",
      "1 mode = LOW\n",
      "1 time = 15.821512891446265\n",
      "\n",
      "\n",
      "2 x = -5.3955378222861565\n",
      "2 y = 10.791075644572313\n",
      "2 route = 210\n",
      "2 mode = LOW\n",
      "2 time = 15.821512891446265\n",
      "\n",
      "\n"
     ]
    },
    {
     "data": {
      "image/png": "[encoded data removed]",
      "text/plain": [
       "<Figure size 432x288 with 1 Axes>"
      ]
     },
     "metadata": {
      "needs_background": "light"
     },
     "output_type": "display_data"
    },
    {
     "name": "stdout",
     "output_type": "stream",
     "text": [
      "==========\n",
      "\n",
      "\n",
      "state:  3\n",
      "0 x = -23.189358213140192\n",
      "0 y = 5.3955378222861565\n",
      "0 route = 315\n",
      "0 mode = HIGH\n",
      "0 time = 15.821512891446265\n",
      "\n",
      "\n",
      "1 x = 0.0\n",
      "1 y = 0.0\n",
      "1 route = 240\n",
      "1 mode = HIGH\n",
      "1 time = 15.821512891446265\n",
      "\n",
      "\n",
      "2 x = -5.3955378222861565\n",
      "2 y = 10.791075644572313\n",
      "2 route = 210\n",
      "2 mode = HIGH\n",
      "2 time = 15.821512891446265\n",
      "\n",
      "\n"
     ]
    },
    {
     "data": {
      "image/png": "[encoded data removed]",
      "text/plain": [
       "<Figure size 432x288 with 1 Axes>"
      ]
     },
     "metadata": {
      "needs_background": "light"
     },
     "output_type": "display_data"
    },
    {
     "name": "stdout",
     "output_type": "stream",
     "text": [
      "==========\n",
      "\n",
      "\n",
      "state:  4\n",
      "0 x = -23.189358213140192\n",
      "0 y = 5.3955378222861565\n",
      "0 route = 315\n",
      "0 mode = HIGH\n",
      "0 time = 15.821512891446265\n",
      "\n",
      "\n",
      "1 x = 0.0\n",
      "1 y = 0.0\n",
      "1 route = 240\n",
      "1 mode = HIGH\n",
      "1 time = 15.821512891446265\n",
      "\n",
      "\n",
      "2 x = -5.3955378222861565\n",
      "2 y = 10.791075644572313\n",
      "2 route = 210\n",
      "2 mode = HIGH\n",
      "2 time = 15.821512891446265\n",
      "\n",
      "\n"
     ]
    },
    {
     "data": {
      "image/png": "[encoded data removed]",
      "text/plain": [
       "<Figure size 432x288 with 1 Axes>"
      ]
     },
     "metadata": {
      "needs_background": "light"
     },
     "output_type": "display_data"
    },
    {
     "name": "stdout",
     "output_type": "stream",
     "text": [
      "==========\n",
      "\n",
      "\n",
      "state:  5\n",
      "0 x = -20.392483449597183\n",
      "0 y = 2.5986630587431474\n",
      "0 route = 315\n",
      "0 mode = HIGH\n",
      "0 time = 16.21705071373242\n",
      "\n",
      "\n",
      "1 x = -1.9776891114307846\n",
      "1 y = -3.4254580225738627\n",
      "1 route = 240\n",
      "1 mode = HIGH\n",
      "1 time = 16.21705071373242\n",
      "\n",
      "\n",
      "2 x = -8.82099584486002\n",
      "2 y = 8.81338653314153\n",
      "2 route = 210\n",
      "2 mode = HIGH\n",
      "2 time = 16.21705071373242\n",
      "\n",
      "\n"
     ]
    },
    {
     "data": {
      "image/png": "[encoded data removed]",
      "text/plain": [
       "<Figure size 432x288 with 1 Axes>"
      ]
     },
     "metadata": {
      "needs_background": "light"
     },
     "output_type": "display_data"
    },
    {
     "name": "stdout",
     "output_type": "stream",
     "text": [
      "==========\n",
      "\n",
      "\n",
      "state:  6\n",
      "0 x = -12.76597955460883\n",
      "0 y = -5.02784083624521\n",
      "0 route = 315\n",
      "0 mode = HIGH\n",
      "0 time = 17.295601237910795\n",
      "\n",
      "\n",
      "1 x = -7.370441732322672\n",
      "1 y = -12.76597955460883\n",
      "1 route = 240\n",
      "1 mode = HIGH\n",
      "1 time = 17.295601237910795\n",
      "\n",
      "\n",
      "2 x = -18.161517376894988\n",
      "2 y = 3.420633912249645\n",
      "2 route = 210\n",
      "2 mode = HIGH\n",
      "2 time = 17.295601237910795\n",
      "\n",
      "\n"
     ]
    },
    {
     "data": {
      "image/png": "[encoded data removed]",
      "text/plain": [
       "<Figure size 432x288 with 1 Axes>"
      ]
     },
     "metadata": {
      "needs_background": "light"
     },
     "output_type": "display_data"
    },
    {
     "name": "stdout",
     "output_type": "stream",
     "text": [
      "==========\n",
      "\n",
      "\n",
      "state:  7\n",
      "0 x = -9.969104791065822\n",
      "0 y = -7.82471559978822\n",
      "0 route = 315\n",
      "0 mode = HIGH\n",
      "0 time = 17.691139060196956\n",
      "\n",
      "\n",
      "1 x = -9.348130843753458\n",
      "1 y = -16.191437577182693\n",
      "1 route = 240\n",
      "1 mode = HIGH\n",
      "1 time = 17.691139060196956\n",
      "\n",
      "\n",
      "2 x = -21.586975399468848\n",
      "2 y = 1.4429448008188615\n",
      "2 route = 210\n",
      "2 mode = HIGH\n",
      "2 time = 17.691139060196956\n",
      "\n",
      "\n"
     ]
    },
    {
     "data": {
      "image/png": "[encoded data removed]",
      "text/plain": [
       "<Figure size 432x288 with 1 Axes>"
      ]
     },
     "metadata": {
      "needs_background": "light"
     },
     "output_type": "display_data"
    }
   ],
   "source": [
    "\n",
    "\n",
    "\n",
    "def printState(s):\n",
    "    infs = [getShipInf(s[ship]) for ship in s]\n",
    "    ax = plt.axes()\n",
    "    \n",
    "    for i,t in enumerate(infs):\n",
    "        if t[4] == 1:\n",
    "            plt.plot(t[0],t[1], color='c', marker='o', label = str(i))\n",
    "        \n",
    "        elif t[4] == 2:\n",
    "            plt.plot(t[0],t[1], color='b', marker='o', label = str(i))\n",
    "\n",
    "        else:\n",
    "            plt.plot(t[0],t[1], color='r', marker='o', label = str(i))\n",
    "        \n",
    "\n",
    "        ax.quiver(*t,units='xy')\n",
    "        circle = plt.Circle((t[0],t[1]), risk, color='b', fill=False)\n",
    "        sq = plt.Rectangle((t[0]-risk,t[1]-risk), risk*2,risk*2, color='r', fill=False)\n",
    "        #ax.set_aspect('equal')\n",
    "        #ax.set_aspect('auto')\n",
    "        ax.set_aspect('equal', adjustable='box')\n",
    "        #ax.set_aspect('equal', 'datalim')\n",
    "        #plt.axis('scaled')\n",
    "        ax.add_artist(circle)\n",
    "        ax.add_artist(sq)\n",
    "    plt.grid()\n",
    "    plt.grid(linestyle='--')\n",
    "    ax.set_axisbelow(True)\n",
    "    plt.show()\n",
    "    pass\n",
    "\n",
    "\n",
    "\n",
    "def getShipInf(ship):\n",
    "    a = [ship['x'],ship['y']]\n",
    "    \n",
    "    v = ship['vel']\n",
    "    inc = ship['route']\n",
    "    x2 = 5 * cosseno(inc)\n",
    "    y2 = 5 * seno(inc)\n",
    "    b = [x2,y2]\n",
    "    return (a[0],a[1],b[0],b[1],v)\n",
    "\n",
    "\n",
    "\n",
    "\n",
    "def gera_tracoAnim(declare,init,trans,k):\n",
    "    trace = [declare(i) for i in range(k)]\n",
    "    s = Solver()\n",
    "    \n",
    "    s.add(init(trace[0]))\n",
    "    \n",
    "    for i in range(k):\n",
    "        pred = [trace[i][ship]['time'] == trace[i][ship+1]['time'] for ship in range(ships-1)]\n",
    "        s.add(And(pred))\n",
    "\n",
    "    for i in range(k-1):\n",
    "        s.add(trans(trace[i],trace[i+1]))\n",
    "    \n",
    "    r = s.check()\n",
    "    if r == sat:\n",
    "        m = s.model()\n",
    "        state = {}\n",
    "        for i in range(k):\n",
    "            print(\"==========\\n\\n\\nstate: \",i)\n",
    "            for v in trace[i]:\n",
    "                state[v] = {}\n",
    "                for h in trace[i][v]:\n",
    "                    if trace[i][v][h].sort() != RealSort():\n",
    "                        print(v,h, \"=\", m[trace[i][v][h]])\n",
    "\n",
    "                        if(trace[i][v][h].sort() == Mode):\n",
    "                            if (m[trace[i][v][h]] == INIT):\n",
    "                                state[v]['vel'] = 2\n",
    "\n",
    "                            elif (m[trace[i][v][h]] == LOW):\n",
    "                                state[v]['vel'] = 0\n",
    "\n",
    "                            elif (m[trace[i][v][h]] == HIGH):\n",
    "                                state[v]['vel'] = 1\n",
    "\n",
    "                        else:\n",
    "                            state[v][h] = m[trace[i][v][h]].as_long()\n",
    "                    \n",
    "                    else:\n",
    "                        print(v,h, '=', float(m[trace[i][v][h]].numerator_as_long())/float(m[trace[i][v][h]].denominator_as_long()))\n",
    "                        state[v][h] = float(m[trace[i][v][h]].numerator_as_long())/float(m[trace[i][v][h]].denominator_as_long())               \n",
    "                print(\"\\n\")\n",
    "            printState(state)\n",
    "        return\n",
    "    \n",
    "    print('UNSAT')\n",
    "    return \n",
    "\n",
    "\n",
    "gera_tracoAnim(declare,init,trans,8)"
   ]
  },
  {
   "cell_type": "markdown",
   "metadata": {},
   "source": [
    "Nesta representação, o estado de velocidade de um navio é representado por sua cor, assim as cores do autómato já apresentado (ciano = *HIGH*, vermelho = *LOW* e azul = *INIT*). As circunferências azuis representam a distância de segurança estimada, enquanto os quadrados vermelhos representam a distância de segurança real analisada por cada navio."
   ]
  },
  {
   "cell_type": "markdown",
   "metadata": {},
   "source": [
    "Vale ressaltar que, por todas as alterações realizadas, os resultados aqui ilustrados são apenas algumas ilustrações e podem não representar com fidelidade execuções reais do modelo até então apresentado."
   ]
  }
 ],
 "metadata": {
  "kernelspec": {
   "display_name": "Python 3",
   "language": "python",
   "name": "python3"
  },
  "language_info": {
   "codemirror_mode": {
    "name": "ipython",
    "version": 3
   },
   "file_extension": ".py",
   "mimetype": "text/x-python",
   "name": "python",
   "nbconvert_exporter": "python",
   "pygments_lexer": "ipython3",
   "version": "3.8.3"
  }
 },
 "nbformat": 4,
 "nbformat_minor": 4
}
