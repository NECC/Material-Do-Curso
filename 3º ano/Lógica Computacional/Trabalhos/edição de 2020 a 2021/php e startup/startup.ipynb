{
 "cells": [
  {
   "cell_type": "markdown",
   "metadata": {},
   "source": [
    "# StartUp\n",
    "\n",
    "**Grupo 7**\n",
    "\n",
    "- Luís Almeida A84180\n",
    "\n",
    "- João Pedro Antunes A86813"
   ]
  },
  {
   "cell_type": "markdown",
   "metadata": {},
   "source": [
    "## Enunciado e Descrição Do Problema:"
   ]
  },
  {
   "cell_type": "markdown",
   "metadata": {},
   "source": [
    "Foi nos proposta a resolução de um problema cujo objetivo é construir o horário de uma Startup:"
   ]
  },
  {
   "cell_type": "markdown",
   "metadata": {},
   "source": [
    "**Pretende-se construir um horário semanal para o plano de reuniões de projeto de uma “StartUp” de acordo com as seguintes condições**:\n",
    "    \n",
    "    \n",
    "  a) Cada reunião ocupa uma sala (enumeradas $1\\,...\\,S$) durante um “slot” $(\\text{tempo},\\text{dia})$.  Assume-se os dias enumerados $1..D$ e, em cada dia, os tempos enumerados $1..T$.\n",
    "   \n",
    "  b) Cada reunião tem associado um projeto (enumerados $1..P$) e um conjunto de participantes. Os diferentes colaboradores são enumerados $1..C$.\n",
    "  \n",
    "  c) Cada projeto tem associado um conjunto de colaboradores, dos quais um  é o líder. Cada projeto realiza um dado número de reuniões semanais. São “inputs” do problema o conjunto de colaboradores de cada projeto, o seu líder e o número de reuniões semanais.\n",
    "  \n",
    "  d) O líder do projeto participa em todas as reuniões do seu projeto; os restantes colaboradores podem ou não participar consoante a sua disponibilidade, num mínimo (“quorum”) de  $50\\%$ do total de colaboradores do projeto.  A disponibilidade de cada participante, incluindo o lider,  é um conjunto de “slots” (“inputs” do problema). "
   ]
  },
  {
   "cell_type": "markdown",
   "metadata": {},
   "source": [
    "### Input"
   ]
  },
  {
   "cell_type": "markdown",
   "metadata": {},
   "source": [
    "Começamos por definir o input do nosso problema. Iremos ter as variáveis $S$, $D$, $T$, $P$ e $C$, que representam o número de Salas disponíveis na Startup, o número de Dias de trabalho, o número de Tempos por dia, o número de Projetos e o número total de Colaboradores, respetivamente. Adicionalmente, teremos $2$ dicionários:\n",
    "\n",
    "1) O primeiro dicionário, colPro, estabelecerá uma correspondência entre cada Projeto $p$ e um triplo $t$ cujo conteúdo é o conjunto dos colaboradores que fazem parte do projeto $p$, o líder do mesmo e o número $N$ de reuniões semanais do projeto.\n",
    "\n",
    "2) O segundo dicionário, disp, estabelecerá uma correspondência entre cada Colaborador $c$ e uma lista com os slots que determinam a sua disponibilidade."
   ]
  },
  {
   "cell_type": "code",
   "execution_count": 67,
   "metadata": {
    "scrolled": false
   },
   "outputs": [],
   "source": [
    "from z3 import*\n",
    "import math\n",
    "\n",
    "#[Projeto] : (colaboradores, lider, N)\n",
    "#[Colaborador] : [(tempo, dia)]\n",
    "\n",
    "S = 2\n",
    "D = 3\n",
    "T = 2\n",
    "P = 3\n",
    "C = 3\n",
    "colPro = {1 : ([1,3,2],1,2), 2: ([1,2],2,2), 3:([1,3,2],3,2)}\n",
    "disp = {1:[(1,1),(1,2),(2,1),(2,2),(3,1),(3,2)], 2: [(2,1),(2,2),(3,1)], 3:[(1,1),(1,2),(2,1),(2,2),(3,2)]}"
   ]
  },
  {
   "cell_type": "markdown",
   "metadata": {},
   "source": [
    "### Análise do Problema"
   ]
  },
  {
   "cell_type": "markdown",
   "metadata": {},
   "source": [
    "Este é um problema de alocação pois temos uma relação entre compromissos e recursos. Como tal, vamos usar Programação Inteira para o modelar e resolver. Utilizando as variáveis $S$,$D$,$T$,$P$ e $C$, podemos criar $2$ matrizes de alocação com o seguinte significado:\n",
    "\n",
    "$$\n",
    "X_{P,S,D,T} == 1 \\quad \\text{se e só se} \\quad \\text{o projeto $p$ é alocado à sala $s$ no dia $d$ no tempo $t$}\n",
    "$$\n",
    "\n",
    "$$\n",
    "Y_{P,C,D,T} == 1 \\quad \\text{se e só se} \\quad \\text{o projeto $p$ é alocado ao colaborador $c$ no dia $d$ no tempo $t$}\n",
    "$$\n",
    "\n",
    "Vejamos então as *limitações* e as *obrigações* do nosso problema:\n",
    "\n",
    "**Limitações**\n",
    "\n",
    "1. Cada sala tem alocada, no máximo, 1 projeto por cada tempo\n",
    "2. Cada colaborador tem alocado, no máximo, 1 projeto por cada tempo\n",
    "3. Cada projeto tem alocado, no máximo, 1 sala por cada tempo\n",
    "4. Um colaborador não pode ser alocado a uma reunião não alocada\n",
    "5. Um colaborador que não faça parte de um projeto não pode ser alocado a uma reunião desse projeto\n",
    "6. Um colaborador não pode ser alocado a uma reunião alocada a um slot fora da sua disponibilidade\n",
    "\n",
    "**Obrigações**\n",
    "\n",
    "1. Cada projeto tem de ter alocadas $N$ reuniões\n",
    "2. Cada líder tem de estar alocado a todas as reuniões do seu projeto\n",
    "3. Cada reunião tem de ter um Quorum mínimo de 50% do total de colaboradores do projeto"
   ]
  },
  {
   "cell_type": "markdown",
   "metadata": {},
   "source": [
    "## Implementação"
   ]
  },
  {
   "cell_type": "markdown",
   "metadata": {},
   "source": [
    "Comecemos por criar as diferentes variáveis necessárias à resolução do problema, e as respetivas matrizes de alocação que as vão conter:"
   ]
  },
  {
   "cell_type": "code",
   "execution_count": 68,
   "metadata": {},
   "outputs": [],
   "source": [
    "horario =  Solver()\n",
    "X = {}\n",
    "Y = {}\n",
    "\n",
    "#alocar variaveis binarias para Projetos,Sala,dia,tempo\n",
    "for p in range(1,P+1):\n",
    "    for s in range(1,S+1):\n",
    "        for d in range(1,D+1):\n",
    "            for t in range(1,T+1):\n",
    "                X[p,s,d,t] = Int(\"sal \"+str(p)+ ' ' +str(s)+ ' ' +str(d)+ ' ' +str(t))\n",
    "                horario.add(X[p,s,d,t] >= 0, X[p,s,d,t] <= 1)\n",
    "\n",
    "#alocar variaveis binarias para Projetos,colaboradores,dia,tempo\n",
    "for p in range(1,P+1):\n",
    "    for c in range(1,C+1):\n",
    "        for d in range(1,D+1):\n",
    "            for t in range(1,T+1):\n",
    "                Y[p,c,d,t] = Int(\"col \"+str(p)+ ' ' +str(c)+ ' ' +str(d)+ ' ' +str(t))\n",
    "                horario.add(Y[p,c,d,t] >= 0, Y[p,c,d,t] <= 1)"
   ]
  },
  {
   "cell_type": "markdown",
   "metadata": {},
   "source": [
    "**Passemos agora à implementação das *limitações*:**"
   ]
  },
  {
   "cell_type": "markdown",
   "metadata": {},
   "source": [
    "**1.** *Cada sala tem alocada, no máximo, 1 projeto por cada tempo* \n",
    "\n",
    "Esta restrição pode ser representada pela seguinte fórmula:\n",
    "$$\n",
    "\\forall_{s}\\forall_{d}\\forall_{t} \\quad \\sum_{p < P} {X_{p,s,d,t}} \\le 1\n",
    "$$ "
   ]
  },
  {
   "cell_type": "code",
   "execution_count": 69,
   "metadata": {},
   "outputs": [],
   "source": [
    "for s in range(1,S+1):\n",
    "    for d in range(1,D+1):\n",
    "        for t in range(1,T+1):\n",
    "            horario.add(Sum([X[p,s,d,t] for p in range(1,P+1)]) <= 1)"
   ]
  },
  {
   "cell_type": "markdown",
   "metadata": {},
   "source": [
    "**2.** *Cada colaborador tem alocado, no máximo, 1 projeto por cada tempo*\n",
    "\n",
    "Esta restrição pode ser representada pela seguinte fórmula:\n",
    "$$\n",
    "\\forall_{c}\\forall_{d}\\forall_{t} \\quad \\sum_{p < P} {Y_{p,c,d,t}} \\le 1\n",
    "$$"
   ]
  },
  {
   "cell_type": "code",
   "execution_count": 70,
   "metadata": {},
   "outputs": [],
   "source": [
    "for c in range(1,C+1):\n",
    "    for d in range(1,D+1):\n",
    "        for t in range(1,T+1):\n",
    "            horario.add(Sum([Y[p,c,d,t] for p in range(1,P+1)]) <= 1)"
   ]
  },
  {
   "cell_type": "markdown",
   "metadata": {},
   "source": [
    "**3.** *Cada projeto tem alocado, no máximo, 1 sala por cada tempo*\n",
    "\n",
    "Esta restrição pode ser representada pela seguinte fórmula:\n",
    "$$\n",
    "\\forall_{p}\\forall_{d}\\forall_{t} \\quad \\sum_{s < S} {X_{p,s,d,t}} \\le 1\n",
    "$$"
   ]
  },
  {
   "cell_type": "code",
   "execution_count": 71,
   "metadata": {},
   "outputs": [],
   "source": [
    "for p in range(1,P+1):\n",
    "    for d in range(1,D+1):\n",
    "        for t in range(1,T+1):\n",
    "            horario.add(Sum([X[p,s,d,t] for s in range(1,S+1)]) <= 1)"
   ]
  },
  {
   "cell_type": "markdown",
   "metadata": {},
   "source": [
    "**4.** *Um colaborador não pode ser alocado a uma reunião não alocada*\n",
    "\n",
    "Esta restrição pode ser representada pela seguinte fórmula:\n",
    "$$\n",
    "\\forall_{p}\\forall_{c}\\forall_{d}\\forall_{t} \\quad \\sum_{s < S} {X_{p,s,d,t}} - Y_{p,c,d,t} \\ge 0\n",
    "$$\n",
    "Pois caso uma reunião do projeto $p$ esteja alocada para a sala $s$, a inequação será verdadeira, caso contrário será falsa."
   ]
  },
  {
   "cell_type": "code",
   "execution_count": 72,
   "metadata": {},
   "outputs": [],
   "source": [
    "for p in range(1,P+1):\n",
    "    for c in range(1,C+1):\n",
    "        for d in range(1,D+1):\n",
    "            for t in range(1,T+1):\n",
    "                horario.add(Sum([X[p,s,d,t] for s in range(1,S+1)]) - Y[p,c,d,t] >= 0)"
   ]
  },
  {
   "cell_type": "markdown",
   "metadata": {},
   "source": [
    "**5.** *Um colaborador que não faça parte de um projeto não pode ser alocado a uma reunião desse projeto*\n",
    "\n",
    "Esta restrição pode ser representada pela seguinte fórmula:\n",
    "\n",
    "Seja $c$ um colaborador que não pertence ao projeto $p$\n",
    "$$                                                          \n",
    "\\forall_{p} \\quad \\sum_{d < D, t < T} {Y_{p,c,d,t}} == 0    \n",
    "$$"
   ]
  },
  {
   "cell_type": "code",
   "execution_count": 73,
   "metadata": {},
   "outputs": [],
   "source": [
    "for p in range(1,P+1):\n",
    "    aux = set(colPro[p][0])#lista de colaboradores que fazem parte do projeto\n",
    "    aux.difference_update(range(1,C+1))\n",
    "    for c in aux: #se o colaborador não fizer parte do projeto \n",
    "        horario.add(Sum([Y[p,c,d,t] for d in range(1,D+1) for t in range(1,T+1)]) == 0)#não pode ser alocado"
   ]
  },
  {
   "cell_type": "markdown",
   "metadata": {},
   "source": [
    "**6.** *Um colaborador não pode ser alocado a uma reunião alocada a um slot fora da sua disponibilidade*\n",
    "\n",
    "Esta restrição pode ser representada pela seguinte fórmula:\n",
    "\n",
    "Seja $(d,t)$ um *slot* que não pertence à disponibilidade do colaborador $c$\n",
    "$$\n",
    "\\forall_{c} \\quad \\sum_{p < P} {Y_{p,c,d,t}} == 0\n",
    "$$"
   ]
  },
  {
   "cell_type": "code",
   "execution_count": 74,
   "metadata": {},
   "outputs": [],
   "source": [
    "for c in disp:\n",
    "    for d in range(1,D+1):\n",
    "        for t in range(1,T+1):\n",
    "            if (d,t) not in disp[c]:\n",
    "                horario.add(Sum([Y[p,c,d,t] for p in range(1,P+1)]) == 0)"
   ]
  },
  {
   "cell_type": "markdown",
   "metadata": {},
   "source": [
    "**Implementação das *obrigações*:**"
   ]
  },
  {
   "cell_type": "markdown",
   "metadata": {},
   "source": [
    "**1.** *Cada projeto tem de ter alocadas $N$ reuniões*\n",
    "\n",
    "Esta restrição pode ser representada pela seguinte fórmula:\n",
    "$$\n",
    "\\forall_{p} \\quad \\sum_{s < S, d < D, t < T} {X_{p,s,d,t}} == N\n",
    "$$"
   ]
  },
  {
   "cell_type": "code",
   "execution_count": 75,
   "metadata": {},
   "outputs": [],
   "source": [
    "for p in range(1,P+1):\n",
    "    reunioes = colPro[p][2]\n",
    "    horario.add(Sum([X[p,s,d,t] for s in range(1,S+1) for d in range(1,D+1) for t in range(1,T+1)]) == reunioes) "
   ]
  },
  {
   "cell_type": "markdown",
   "metadata": {},
   "source": [
    "**2.** *Cada líder tem de estar alocado a todas as reuniões do seu projeto*\n",
    "\n",
    "Esta restrição pode ser representada pela seguinte fórmula:\n",
    "\n",
    "Seja $l$ um líder de um projeto $p$: \n",
    "$$\n",
    "\\forall_{p} \\sum_{t < T, d < D} {Y_{p,l,d,t}} == N\n",
    "$$"
   ]
  },
  {
   "cell_type": "code",
   "execution_count": 76,
   "metadata": {},
   "outputs": [],
   "source": [
    "for p in range(1,P+1):\n",
    "    l = colPro[p][1]\n",
    "    reunioes = colPro[p][2]\n",
    "    horario.add(Sum([Y[p,l,d,t] for d in range(1,D+1) for t in range(1,T+1)]) == reunioes)"
   ]
  },
  {
   "cell_type": "markdown",
   "metadata": {},
   "source": [
    "**3.** *Cada reunião tem de ter um Quorum mínimo de 50% do total de colaboradores do projeto*\n",
    "\n",
    "Esta restrição pode ser representada pela seguinte fórmula:\n",
    "\n",
    "Seja $C(p)$ o conjunto de todos os colaboradores do projeto $p$ e seja $l$ o líder desse projeto. Então, para todo o $c$ $\\in$ $C(p)$\n",
    "\n",
    "$$\n",
    "\\forall_{p}\\forall_{d}\\forall_{t} \\quad \\sum {Y_{p,c,d,t}} \\ge \\frac{\\#C(p)}{2} * Y_{p,l,d,t} \n",
    "$$\n",
    "\n",
    "Devido ao facto de o líder $l$ estar presente em todas as reuniões do seu projeto $p$, se uma delas não tiver sido alocada no dia $d$ no tempo $t$, o valor da variável $Y_{p,l,d,t}$ será igual a $0$, logo não incorreremos em situações em que forçamos uma reunião que não foi alocada a ter quorum mínimo. "
   ]
  },
  {
   "cell_type": "code",
   "execution_count": 77,
   "metadata": {},
   "outputs": [],
   "source": [
    "for p in range(1,P+1):\n",
    "    for d in range(1,D+1):\n",
    "        for t in range(1,T+1):\n",
    "            l = colPro[p][1]\n",
    "            horario.add(Sum([Y[p,c,d,t] for c in colPro[p][0]]) >=  math.ceil(len(colPro[p][0])/2)* Y[p,l,d,t])"
   ]
  },
  {
   "cell_type": "markdown",
   "metadata": {},
   "source": [
    "**Impressão do resultado**"
   ]
  },
  {
   "cell_type": "code",
   "execution_count": 79,
   "metadata": {},
   "outputs": [
    {
     "name": "stdout",
     "output_type": "stream",
     "text": [
      "sat\n",
      "Projeto: 1 Sala: 1 Dia: 3 Tempo: 2 Colaboradores: [1, 3]\n",
      "Projeto: 1 Sala: 2 Dia: 2 Tempo: 2 Colaboradores: [1, 3]\n",
      "Projeto: 2 Sala: 2 Dia: 2 Tempo: 1 Colaboradores: [2]\n",
      "Projeto: 2 Sala: 2 Dia: 3 Tempo: 1 Colaboradores: [1, 2]\n",
      "Projeto: 3 Sala: 1 Dia: 1 Tempo: 2 Colaboradores: [1, 3]\n",
      "Projeto: 3 Sala: 1 Dia: 2 Tempo: 1 Colaboradores: [1, 3]\n"
     ]
    }
   ],
   "source": [
    "t = horario.check()\n",
    "print(t)\n",
    "if t == sat:\n",
    "    m = horario.model()\n",
    "    for p in range(1,P+1):\n",
    "        for s in range(1,S+1):\n",
    "            for d in range(1,D+1):\n",
    "                for t in range(1,T+1):\n",
    "                    if m[X[p,s,d,t]] == 1:\n",
    "                        col = []\n",
    "                        for c in range(1,C+1):\n",
    "                            if m[Y[p,c,d,t]] == 1:\n",
    "                                col.append(c)\n",
    "                        print(f'Projeto: {p} Sala: {s} Dia: {d} Tempo: {t} Colaboradores: {col}')"
   ]
  },
  {
   "cell_type": "markdown",
   "metadata": {},
   "source": [
    "De seguida apresentamos alguns inputs que testam as diferentes restrições:"
   ]
  },
  {
   "cell_type": "code",
   "execution_count": null,
   "metadata": {},
   "outputs": [],
   "source": [
    "\"\"\"\n",
    "#unsat - Colaborador não pode ser alocado a uma reunião alocada a um slot fora da sua disponibilidade\n",
    "S = 2\n",
    "D = 2\n",
    "T = 2\n",
    "P = 3\n",
    "C = 3\n",
    "colPro = {1 : ([1,3,2],1,2), 2: ([1,2],2,2), 3:([1,3,2],3,2)}\n",
    "disp = {1:[(1,2),(2,1),(2,2)], 2: [(2,1),(2,2)], 3:[(1,1),(1,2),(2,1),(2,2)]}\n",
    "\n",
    "#unsat - Cada sala só pode ser alocada a um projeto por tempo\n",
    "S = 1\n",
    "D = 2\n",
    "T = 2\n",
    "P = 3\n",
    "C = 3\n",
    "colPro = {1 : ([1,3,2],1,2), 2: ([1,2],2,2), 3:([1,3,2],3,2)}\n",
    "disp = {1:[(1,1),(1,2),(2,1),(2,2)], 2: [(1,1),(1,2),(2,1),(2,2)], 3:[(1,1),(1,2),(2,1),(2,2)]}\n",
    "\n",
    "#unsat - Cada projeto tem N reuniões alocadas (tempos insuficientes)\n",
    "S = 2\n",
    "D = 2\n",
    "T = 1\n",
    "P = 3\n",
    "C = 3\n",
    "colPro = {1 : ([1,3,2],1,2), 2: ([1,2],2,2), 3:([1,3,2],3,2)}\n",
    "disp = {1:[(1,1),(2,1)], 2: [(1,1),(2,1)], 3:[(1,1),(2,1)]}\n",
    "\n",
    "#unsat - Cada projeto tem N reuniões alocadas (dias insuficientes)\n",
    "S = 2\n",
    "D = 1\n",
    "T = 2\n",
    "P = 3\n",
    "C = 3\n",
    "colPro = {1 : ([1,3,2],1,2), 2: ([1,2],2,2), 3:([1,3,2],3,2)}\n",
    "disp = {1:[(1,1),(1,2)], 2: [(1,1),(1,2)], 3:[(1,1),(1,2)]}\n",
    "\n",
    "#unsat - O líder de cada projeto tem de estar presente em todas as reuniões desse projeto\n",
    "S = 2\n",
    "D = 2\n",
    "T = 2\n",
    "P = 2\n",
    "C = 3\n",
    "colPro = {1 : ([1,3,2],1,2), 2:([1,3,2],3,2)}\n",
    "disp = {1:[(1,1),(1,2),(2,1),(2,2)], 2: [(1,1),(1,2),(2,1),(2,2)], 3:[(1,1)]}\"\"\""
   ]
  },
  {
   "cell_type": "markdown",
   "metadata": {},
   "source": [
    "## Versão SCIP"
   ]
  },
  {
   "cell_type": "markdown",
   "metadata": {},
   "source": [
    "Temos também uma versão da nossa resolução do problema usando SCIP, que é uma tradução direta da resolução em Z3:"
   ]
  },
  {
   "cell_type": "code",
   "execution_count": 38,
   "metadata": {},
   "outputs": [],
   "source": [
    "from pyscipopt import *\n",
    "\n",
    "def startUpScip(S,D,T,P,C,colPro,disp):\n",
    "    horario = Model()\n",
    "    X = {}\n",
    "    Y = {}\n",
    "\n",
    "    #alocar variaveis binarias para Projetos,Sala,dia,tempo\n",
    "    for p in range(1,P+1):\n",
    "        for s in range(1,S+1):\n",
    "            for d in range(1,D+1):\n",
    "                for t in range(1,T+1):\n",
    "                    X[p,s,d,t] = horario.addVar(\"sal \"+str(p)+ ' ' +str(s)+ ' ' +str(d)+ ' ' +str(t), vtype=\"INTEGER\")\n",
    "                    horario.addCons(X[p,s,d,t] >= 0)\n",
    "                    horario.addCons(X[p,s,d,t] <= 1)\n",
    "\n",
    "    \n",
    "    #alocar variaveis binarias para Projetos,colaboradores,dia,tempo\n",
    "    for p in range(1,P+1):\n",
    "        for c in range(1,C+1):\n",
    "            for d in range(1,D+1):\n",
    "                for t in range(1,T+1):\n",
    "                    Y[p,c,d,t] = horario.addVar(\"col \"+str(p)+ ' ' +str(c)+ ' ' +str(d)+ ' ' +str(t), vtype=\"INTEGER\")\n",
    "                    horario.addCons(Y[p,c,d,t] >= 0)\n",
    "                    horario.addCons(Y[p,c,d,t] <= 1)\n",
    "\n",
    "    \n",
    "    #cada sala só é ocupada por 1 projeto por dia e tempo\n",
    "    for s in range(1,S+1):\n",
    "        for d in range(1,D+1):\n",
    "            for t in range(1,T+1):\n",
    "                horario.addCons(sum([X[p,s,d,t] for p in range(1,P+1)]) <= 1)\n",
    "    \n",
    "    \n",
    "    #cada colaborador só participa de 1 projeto por dia/tempo\n",
    "    for c in range(1,C+1):\n",
    "        for d in range(1,D+1):\n",
    "            for t in range(1,T+1):\n",
    "                horario.addCons(sum([Y[p,c,d,t] for p in range(1,P+1)]) <= 1)\n",
    "\n",
    "    \n",
    "    #O mesmo projeto não pode ser alocado simultaneamente em duas salas\n",
    "    for p in range(1,P+1):\n",
    "        for d in range(1,D+1):\n",
    "            for t in range(1,T+1):\n",
    "                horario.addCons(sum([X[p,s,d,t] for s in range(1,S+1)]) <= 1)\n",
    "\n",
    "    \n",
    "    #o colaborador não pode estar alocado em um projeto não alocado (soma das salas alocadas pro projeto - colaborador alocado pro projeto >= 0)\n",
    "    for p in range(1,P+1):\n",
    "        for c in range(1,C+1):\n",
    "            for d in range(1,D+1):\n",
    "                for t in range(1,T+1):\n",
    "                    horario.addCons(sum([X[p,s,d,t] for s in range(1,S+1)]) - Y[p,c,d,t] >= 0)\n",
    "    \n",
    "    \n",
    "    #o colaborador que não faça parte de um projeto não poderá estar no projeto\n",
    "    for p in range(1,P+1):\n",
    "        aux = colPro[p][0] #lista de colaboradores que fazem parte do projeto\n",
    "        for c in range(1,C+1):\n",
    "            if c not in aux:\n",
    "                horario.addCons(sum([Y[p,c,d,t] for d in range(1,D+1) for t in range(1,T+1)]) == 0)\n",
    "    \n",
    "\n",
    "    \n",
    "    #O lider participa de todas as reuniões de seu projeto\n",
    "    for p in range(1,P+1):\n",
    "        lider = colPro[p][1]\n",
    "        reunioes = colPro[p][2]\n",
    "        horario.addCons(sum([Y[p,lider,d,t] for d in range(1,D+1) for t in range(1,T+1)]) == reunioes)\n",
    "\n",
    "    \n",
    "    #O Projeto tem N reuniões alocadas\n",
    "    for p in range(1,P+1):\n",
    "        reunioes = colPro[p][2]\n",
    "        horario.addCons(sum([X[p,s,d,t] for s in range(1,S+1) for d in range(1,D+1) for t in range(1,T+1)]) == reunioes)        \n",
    "    \n",
    "    \n",
    "    #Quórum mínimo de 50%\n",
    "    for p in range(1,P+1):\n",
    "        for d in range(1,D+1):\n",
    "            for t in range(1,T+1):\n",
    "                lider = colPro[p][1]\n",
    "                horario.addCons(sum([Y[p,c,d,t] for c in colPro[p][0]]) >=  math.ceil(len(colPro[p][0])/2)* Y[p,lider,d,t])\n",
    "\n",
    "\n",
    "    #levar em conta a disponibilidade de cada colaborador\n",
    "    for c in disp:\n",
    "        for d in range(1,D+1):\n",
    "            for t in range(1,T+1):\n",
    "                if (d,t) not in disp[c]:\n",
    "                    horario.addCons(sum([Y[p,c,d,t] for p in range(1,P+1)]) == 0)\n",
    "                    \n",
    "    horario.optimize()\n",
    "    t = horario.getStatus()\n",
    "    print(t)\n",
    "    \n",
    "\n",
    "    if t == 'optimal':\n",
    "        m = horario.getBestSol()\n",
    "        \n",
    "        for p in range(1,P+1):\n",
    "            for s in range(1,S+1):\n",
    "                for d in range(1,D+1):\n",
    "                    for t in range(1,T+1):\n",
    "                        if(m[X[p,s,d,t]] == 1):\n",
    "                            col = []\n",
    "                            for c in range(1,C+1):\n",
    "                                if m[Y[p,c,d,t]] == 1:\n",
    "                                    col.append(c)\n",
    "                            print(f'Projeto: {p} Sala: {s} Dia: {d} Tempo: {t} Colaboradores: {col}')\n",
    "    return\n"
   ]
  },
  {
   "cell_type": "markdown",
   "metadata": {},
   "source": [
    "A seguinte função de teste recebe um número $N$ de projetos e gera um input para a função *startUpScip*, testando esse input:"
   ]
  },
  {
   "cell_type": "code",
   "execution_count": 39,
   "metadata": {},
   "outputs": [
    {
     "name": "stderr",
     "output_type": "stream",
     "text": [
      "<ipython-input-38-8b9b24598210>:4: UserWarning: linked SCIP 7.0 is not recommended for this version of PySCIPOpt - use version 7.0.1\n",
      "  horario = Model()\n"
     ]
    },
    {
     "name": "stdout",
     "output_type": "stream",
     "text": [
      "optimal\n",
      "Projeto: 1 Sala: 1 Dia: 19 Tempo: 1 Colaboradores: [1]\n",
      "Projeto: 2 Sala: 1 Dia: 31 Tempo: 1 Colaboradores: [2]\n",
      "Projeto: 3 Sala: 1 Dia: 27 Tempo: 1 Colaboradores: [3]\n",
      "Projeto: 4 Sala: 1 Dia: 41 Tempo: 1 Colaboradores: [4]\n",
      "Projeto: 5 Sala: 1 Dia: 18 Tempo: 1 Colaboradores: [5]\n",
      "Projeto: 6 Sala: 1 Dia: 48 Tempo: 1 Colaboradores: [6]\n",
      "Projeto: 7 Sala: 1 Dia: 47 Tempo: 1 Colaboradores: [7]\n",
      "Projeto: 8 Sala: 1 Dia: 36 Tempo: 1 Colaboradores: [8]\n",
      "Projeto: 9 Sala: 1 Dia: 20 Tempo: 1 Colaboradores: [9]\n",
      "Projeto: 10 Sala: 1 Dia: 29 Tempo: 1 Colaboradores: [10]\n",
      "Projeto: 11 Sala: 1 Dia: 38 Tempo: 1 Colaboradores: [11]\n",
      "Projeto: 12 Sala: 1 Dia: 45 Tempo: 1 Colaboradores: [12]\n",
      "Projeto: 13 Sala: 1 Dia: 23 Tempo: 1 Colaboradores: [13]\n",
      "Projeto: 14 Sala: 1 Dia: 46 Tempo: 1 Colaboradores: [14]\n",
      "Projeto: 15 Sala: 1 Dia: 22 Tempo: 1 Colaboradores: [15]\n",
      "Projeto: 16 Sala: 1 Dia: 28 Tempo: 1 Colaboradores: [16]\n",
      "Projeto: 17 Sala: 1 Dia: 30 Tempo: 1 Colaboradores: [17]\n",
      "Projeto: 18 Sala: 1 Dia: 34 Tempo: 1 Colaboradores: [18]\n",
      "Projeto: 19 Sala: 1 Dia: 50 Tempo: 1 Colaboradores: [19]\n",
      "Projeto: 20 Sala: 1 Dia: 32 Tempo: 1 Colaboradores: [20]\n",
      "Projeto: 21 Sala: 1 Dia: 1 Tempo: 1 Colaboradores: [21]\n",
      "Projeto: 22 Sala: 1 Dia: 4 Tempo: 1 Colaboradores: [22]\n",
      "Projeto: 23 Sala: 1 Dia: 7 Tempo: 1 Colaboradores: [23]\n",
      "Projeto: 24 Sala: 1 Dia: 12 Tempo: 1 Colaboradores: [24]\n",
      "Projeto: 25 Sala: 1 Dia: 13 Tempo: 1 Colaboradores: [25]\n",
      "Projeto: 26 Sala: 1 Dia: 16 Tempo: 1 Colaboradores: [26]\n",
      "Projeto: 27 Sala: 1 Dia: 21 Tempo: 1 Colaboradores: [27]\n",
      "Projeto: 28 Sala: 1 Dia: 24 Tempo: 1 Colaboradores: [28]\n",
      "Projeto: 29 Sala: 1 Dia: 25 Tempo: 1 Colaboradores: [29]\n",
      "Projeto: 30 Sala: 1 Dia: 26 Tempo: 1 Colaboradores: [30]\n",
      "Projeto: 31 Sala: 1 Dia: 37 Tempo: 1 Colaboradores: [31]\n",
      "Projeto: 32 Sala: 1 Dia: 49 Tempo: 1 Colaboradores: [32]\n",
      "Projeto: 33 Sala: 1 Dia: 33 Tempo: 1 Colaboradores: [33]\n",
      "Projeto: 34 Sala: 1 Dia: 2 Tempo: 1 Colaboradores: [34]\n",
      "Projeto: 35 Sala: 1 Dia: 17 Tempo: 1 Colaboradores: [35]\n",
      "Projeto: 36 Sala: 1 Dia: 35 Tempo: 1 Colaboradores: [36]\n",
      "Projeto: 37 Sala: 1 Dia: 40 Tempo: 1 Colaboradores: [37]\n",
      "Projeto: 38 Sala: 1 Dia: 43 Tempo: 1 Colaboradores: [38]\n",
      "Projeto: 39 Sala: 1 Dia: 44 Tempo: 1 Colaboradores: [39]\n",
      "Projeto: 40 Sala: 1 Dia: 11 Tempo: 1 Colaboradores: [40]\n",
      "Projeto: 41 Sala: 1 Dia: 42 Tempo: 1 Colaboradores: [41]\n",
      "Projeto: 42 Sala: 1 Dia: 39 Tempo: 1 Colaboradores: [42]\n",
      "Projeto: 43 Sala: 1 Dia: 6 Tempo: 1 Colaboradores: [43]\n",
      "Projeto: 44 Sala: 1 Dia: 3 Tempo: 1 Colaboradores: [44]\n",
      "Projeto: 45 Sala: 1 Dia: 5 Tempo: 1 Colaboradores: [45]\n",
      "Projeto: 46 Sala: 1 Dia: 8 Tempo: 1 Colaboradores: [46]\n",
      "Projeto: 47 Sala: 1 Dia: 9 Tempo: 1 Colaboradores: [47]\n",
      "Projeto: 48 Sala: 1 Dia: 10 Tempo: 1 Colaboradores: [48]\n",
      "Projeto: 49 Sala: 1 Dia: 14 Tempo: 1 Colaboradores: [49]\n",
      "Projeto: 50 Sala: 1 Dia: 15 Tempo: 1 Colaboradores: [50]\n"
     ]
    }
   ],
   "source": [
    "def teste(N):\n",
    "    p = N\n",
    "    c = N\n",
    "    teste = Solver()\n",
    "    (S,D,T) = Ints(\"s d t\")\n",
    "    teste.add(S*D*T == p)\n",
    "    t = teste.check()\n",
    "    \n",
    "    if t == sat:\n",
    "        m = teste.model()\n",
    "        s = m[S].as_long()\n",
    "        d = m[D].as_long()\n",
    "        t = m[T].as_long()\n",
    "\n",
    "        cp = {x :([x],x,1) for x in range(1,c+1)}\n",
    "        \n",
    "        disp = {x: [(i,j) for i in range(1,d+1) for j in range(1,t+1)] for x in range(1,c+1)}\n",
    "\n",
    "    return (s,d,t,p,c,cp,disp)\n",
    "\n",
    "startUpScip(*teste(50))"
   ]
  }
 ],
 "metadata": {
  "kernelspec": {
   "display_name": "Python 3",
   "language": "python",
   "name": "python3"
  },
  "language_info": {
   "codemirror_mode": {
    "name": "ipython",
    "version": 3
   },
   "file_extension": ".py",
   "mimetype": "text/x-python",
   "name": "python",
   "nbconvert_exporter": "python",
   "pygments_lexer": "ipython3",
   "version": "3.8.3"
  }
 },
 "nbformat": 4,
 "nbformat_minor": 4
}
