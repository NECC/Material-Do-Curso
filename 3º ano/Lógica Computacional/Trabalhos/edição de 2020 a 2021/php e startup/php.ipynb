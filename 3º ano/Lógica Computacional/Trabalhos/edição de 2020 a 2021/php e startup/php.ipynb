{
 "cells": [
  {
   "cell_type": "markdown",
   "metadata": {},
   "source": [
    "# Pigeon Hole Principle\n",
    "\n",
    "**Grupo 7:**\n",
    "\n",
    "- Luís Almeida A84180\n",
    "- João Pedro Antunes A86813 "
   ]
  },
  {
   "cell_type": "markdown",
   "metadata": {},
   "source": [
    "## Enunciado e Descrição do Problema"
   ]
  },
  {
   "cell_type": "markdown",
   "metadata": {},
   "source": [
    "Foi nos proposta a resolução do problema Pigeon Hole Principle, cujo enunciado é o seguinte:"
   ]
  },
  {
   "cell_type": "markdown",
   "metadata": {},
   "source": [
    "**O  “pigeon hole principle” (PHP) é um problema clássico da complexidade. Basicamente:**"
   ]
  },
  {
   "cell_type": "markdown",
   "metadata": {},
   "source": [
    "Existem $N$ pombos  e $N-1$ poleiros de pombos. Cada pombo ocupa totalmente um poleiro. Pretende-se alocar cada pombo a um poleiro próprio.\n",
    "     \n",
    "  1. Provar que não existe solução do problema, usando  Z3 em \n",
    "     1. lógica proposional\n",
    "     2. lógica inteira linear\n",
    "    \n",
    "    \n",
    "  2. Analisar a complexidade de cada uma das provas em função de N de forma empírica."
   ]
  },
  {
   "cell_type": "markdown",
   "metadata": {},
   "source": [
    "## Lógica Proposicional"
   ]
  },
  {
   "cell_type": "markdown",
   "metadata": {},
   "source": [
    "Podemos modelar o problema do PHP em lógica proposicional usando $N * (N-1)$ variáveis, onde a variável $x_{pb,pl}$ determina se o pombo $pb$ foi alocado ao poleiro $pl$. Temos também de adicionar as seguintes restrições:\n",
    "\n",
    "a) A cada poleiro é alocado um só pombo\n",
    "\n",
    "b) A cada pombo é alocado um só poleiro\n",
    "\n",
    "c) A cada pombo é alocado um poleiro"
   ]
  },
  {
   "cell_type": "markdown",
   "metadata": {},
   "source": [
    "* A restrição a) traduz-se na seguinte notação: \n",
    "\n",
    ">Seja $x_{i,k}$ uma correspondência entre o pombo $i$ e o poleiro $k$. Então, para todo o poleiro $k$:\n",
    "\n",
    "$$\n",
    "\\bigwedge_{i=1}^{N} (x_{i,k} \\rightarrow \\bigwedge_{j \\neq i \\wedge j = 1}^{N} \\neg x_{j,k})\n",
    "$$"
   ]
  },
  {
   "cell_type": "markdown",
   "metadata": {},
   "source": [
    "* A restrição b) traduz-se na seguinte notação:\n",
    "\n",
    ">Seja $x_{i,k}$ uma correspondência entre o pombo $i$ e o poleiro $k$. Então, para todo o pombo $i$:\n",
    "\n",
    "$$\n",
    "\\bigwedge_{k=1}^{N-1} (x_{i,k} \\rightarrow \\bigwedge_{j \\neq k \\wedge j = 1}^{N-1} \\neg x_{j,k})\n",
    "$$"
   ]
  },
  {
   "cell_type": "markdown",
   "metadata": {},
   "source": [
    "* A restrição c) traduz-se na seguinte notação:\n",
    "\n",
    ">Para todo o pombo $i$:\n",
    "\n",
    "$$\n",
    "\\bigvee_{ k = 1}^{N-1} x_{i,k}\n",
    "$$"
   ]
  },
  {
   "cell_type": "markdown",
   "metadata": {},
   "source": [
    "**Traduzindo estas restrições em código e usando o z3, obtemos a seguinte resolução:**"
   ]
  },
  {
   "cell_type": "code",
   "execution_count": 8,
   "metadata": {},
   "outputs": [],
   "source": [
    "from z3 import *"
   ]
  },
  {
   "cell_type": "code",
   "execution_count": 9,
   "metadata": {},
   "outputs": [
    {
     "data": {
      "text/html": [
       "<b>unsat</b>"
      ],
      "text/plain": [
       "unsat"
      ]
     },
     "execution_count": 9,
     "metadata": {},
     "output_type": "execute_result"
    }
   ],
   "source": [
    "def phpLPNoOpt(n):\n",
    "    varProp = {pombo : {poleiro : Bool(str(pombo)+str(poleiro)) for poleiro in range(n-1)} for pombo in range(n)}\n",
    "    s = Solver()\n",
    "    s.push()\n",
    "    \n",
    "    # A cada pombo é alocado um poleiro c)\n",
    "    for pombo in varProp:\n",
    "        s.add(Or(list(varProp[pombo].values())))\n",
    "        s.push()\n",
    "    \n",
    "    # A cada pombo é alocado um só poleiro b)\n",
    "    for pombo in varProp:\n",
    "        for poleiro in range(n-1):\n",
    "            for poleiroComp in range(n-1):\n",
    "                if not poleiroComp == poleiro:\n",
    "                    s.add(Implies(varProp[pombo][poleiro], Not(varProp[pombo][poleiroComp])))\n",
    "                    s.push()\n",
    "    \n",
    "    # A cada poleiro é alocado um só pombo a)\n",
    "    for poleiro in range(n-1):\n",
    "        for pombo in varProp:\n",
    "            for pomboComp in range(n):\n",
    "                if not pomboComp == pombo:\n",
    "                    s.add(Implies(varProp[pombo][poleiro], Not(varProp[pomboComp][poleiro])))\n",
    "                    s.push()\n",
    "    \n",
    "    return s.check()\n",
    "\n",
    "phpLPNoOpt(8)"
   ]
  },
  {
   "cell_type": "markdown",
   "metadata": {},
   "source": [
    "No entanto, sabemos que a restrição a) é equivalente à seguinte restrição:"
   ]
  },
  {
   "cell_type": "markdown",
   "metadata": {},
   "source": [
    "$$\n",
    "\\bigwedge_{i=1}^{N} (x_{i,k} \\rightarrow \\bigwedge_{j = i + 1}^{N} \\neg x_{j,k})\n",
    "$$"
   ]
  },
  {
   "cell_type": "markdown",
   "metadata": {},
   "source": [
    "Assim como a restrição b) é equivalente a:"
   ]
  },
  {
   "cell_type": "markdown",
   "metadata": {},
   "source": [
    "$$\n",
    "\\bigwedge_{k=1}^{N-1} (x_{i,k} \\rightarrow \\bigwedge_{j = k+1}^{N-1} \\neg x_{j,k})\n",
    "$$"
   ]
  },
  {
   "cell_type": "markdown",
   "metadata": {},
   "source": [
    "Estas equivalências são consequências da propriedade:"
   ]
  },
  {
   "cell_type": "markdown",
   "metadata": {},
   "source": [
    "$$\n",
    "(p \\implies \\neg q)  \\iff (q \\implies \\neg p)\n",
    "$$"
   ]
  },
  {
   "cell_type": "markdown",
   "metadata": {},
   "source": [
    "**Podemos então melhorar a nossa resolução tendo em conta estas novas informações:**"
   ]
  },
  {
   "cell_type": "code",
   "execution_count": 10,
   "metadata": {},
   "outputs": [
    {
     "data": {
      "text/html": [
       "<b>unsat</b>"
      ],
      "text/plain": [
       "unsat"
      ]
     },
     "execution_count": 10,
     "metadata": {},
     "output_type": "execute_result"
    }
   ],
   "source": [
    "def phpLPBasicalOpt(n):\n",
    "    varProp = {pombo : {poleiro : Bool(str(pombo)+str(poleiro)) for poleiro in range(n-1)} for pombo in range(n)}\n",
    "    s = Solver()\n",
    "    s.push()\n",
    "\n",
    "    # A cada pombo é alocado um poleiro c)\n",
    "    for pombo in varProp:\n",
    "        s.add(Or(list(varProp[pombo].values())))\n",
    "        s.push()\n",
    "    \n",
    "    # A cada pombo é alocado um só poleiro b)\n",
    "    for pombo in varProp:\n",
    "        for poleiro in range(n-1):\n",
    "            for poleiroComp in range(poleiro+1,n-1):\n",
    "                s.add(Implies(varProp[pombo][poleiro], Not(varProp[pombo][poleiroComp])))\n",
    "                s.push()\n",
    "\n",
    "\n",
    "    # A cada poleiro é alocado um só pombo a)\n",
    "    for poleiro in range(n-1):\n",
    "        for pombo in varProp:\n",
    "            for pomboComp in range(pombo+1,n):\n",
    "                s.add(Implies(varProp[pombo][poleiro], Not(varProp[pomboComp][poleiro])))\n",
    "                s.push()\n",
    "\n",
    "    return s.check()\n",
    "\n",
    "phpLPBasicalOpt(8)"
   ]
  },
  {
   "cell_type": "markdown",
   "metadata": {},
   "source": [
    "Como temos restrições do tipo \"apenas uma váriavel pode ser verdadeira\" e \"pelo menos uma variável tem de ser verdadeira\", uma outra forma de resolver o problema seria usando **restrições de cardinalidade**, que são inequações da seguinte forma:"
   ]
  },
  {
   "cell_type": "markdown",
   "metadata": {},
   "source": [
    "$$\n",
    "\\sum_{i,j = 1}^{N,N-1} x_{i,j} <= k   ,   \\sum_{i,j = 1}^{N,N-1} x_{i,j} >= k\n",
    "$$"
   ]
  },
  {
   "cell_type": "markdown",
   "metadata": {},
   "source": [
    "Onde $k$ é uma constante entre 1 e $N$. Estas inequações dizem-nos que no máximo $k$ variáveis são verdadeiras, e que no mínimo $k$ variáveis são verdadeiras, respetivamente. Ora, se considerarmos k = 1, e usando as funções Atleast() e Atmost() do z3, conseguimos implementar esta ideia na nossa solução."
   ]
  },
  {
   "cell_type": "code",
   "execution_count": 11,
   "metadata": {},
   "outputs": [
    {
     "data": {
      "text/html": [
       "<b>unsat</b>"
      ],
      "text/plain": [
       "unsat"
      ]
     },
     "execution_count": 11,
     "metadata": {},
     "output_type": "execute_result"
    }
   ],
   "source": [
    "def phpLPMoreOpt(n):\n",
    "    varProp = {pombo:{poleiro:Bool(str(pombo)+str(poleiro)) for poleiro in range(n-1)} for pombo in range(n)}\n",
    "    s = Solver()\n",
    "    s.push()\n",
    "    \n",
    "    # Todos os pombos são alocados a um e um só poleiro\n",
    "    for x in varProp.values():\n",
    "        p = list(x.values())\n",
    "        s.add(AtLeast(*p,1))\n",
    "        s.add(AtMost(*p,1))\n",
    "        s.push()\n",
    "    \n",
    "    # Todo o poleiro só pode ter um pombo\n",
    "    for x in range(n-1):\n",
    "        p = [varProp[z][x] for z in varProp]\n",
    "        s.add(AtMost(*p,1))\n",
    "        s.push()\n",
    "    \n",
    "    return s.check()\n",
    "\n",
    "phpLPMoreOpt(8)"
   ]
  },
  {
   "cell_type": "markdown",
   "metadata": {},
   "source": [
    "### Análise de Complexidade"
   ]
  },
  {
   "cell_type": "markdown",
   "metadata": {},
   "source": [
    "Para medirmos a complexidade empírica das nossas soluções, desenvolvemos as seguintes funções utilizando o timeit para obter o gráfico dos tempos de execução de cada uma:"
   ]
  },
  {
   "cell_type": "code",
   "execution_count": 25,
   "metadata": {},
   "outputs": [
    {
     "data": {
      "image/png": "[encoded data removed]",
      "text/plain": [
       "<Figure size 432x288 with 1 Axes>"
      ]
     },
     "metadata": {
      "needs_background": "light"
     },
     "output_type": "display_data"
    }
   ],
   "source": [
    "import matplotlib.pyplot as plt\n",
    "from timeit import timeit\n",
    "\n",
    "def timer(functNm,n,tests):\n",
    "    t = timeit(setup=f\"from __main__ import {functNm}\", \\\n",
    "       stmt=f\"{functNm}({n})\",number=tests)/tests\n",
    "    return t\n",
    "\n",
    "def testeTmr(functNm,tests,samples):\n",
    "    return [timer(functNm,n,tests) for n in samples]\n",
    "\n",
    "\n",
    "def testePlot(functNm,samples):\n",
    "    plt.plot(samples, testeTmr(functNm,3,samples), label= functNm, marker = \"o\")\n",
    "\n",
    "def timerLP(Nmax):\n",
    "    tests = range(2,Nmax)\n",
    "    testePlot(\"phpLPMoreOpt\",tests)\n",
    "    testePlot(\"phpLPBasicalOpt\",tests)\n",
    "    testePlot(\"phpLPNoOpt\",tests)\n",
    "    plt.ylabel('time')\n",
    "    plt.xlabel('N')\n",
    "    plt.title(\"Complexity Plot\")\n",
    "    plt.legend()\n",
    "    plt.show()\n",
    "\n",
    "timerLP(10)"
   ]
  },
  {
   "cell_type": "markdown",
   "metadata": {},
   "source": [
    "Observando o gráfico apresentado, podemos constatar que as 3 funções têm complexidade exponencial. De facto, mesmo com as otimizações tidas em conta, não conseguimos impedir que as nossas soluções não tenham este nível de complexidade. Esta situação deve-se ao facto de não conseguirmos limitar polinomialmente o número de monómios do polinómio que representa a função booleana do nosso problema. Assim sendo, e tendo em conta que o algoritmo de SAT tem complexidade exponencial nestes casos, seria de esperar que todas as nossas funções tivessem esta complexidade."
   ]
  },
  {
   "cell_type": "markdown",
   "metadata": {},
   "source": [
    "## Lógica Inteira Linear"
   ]
  },
  {
   "cell_type": "markdown",
   "metadata": {},
   "source": [
    "Usando Lógica Inteira Linear, vamos modelar cada pombo como uma variável inteira $x_{i}$, cujo valor será o poleiro que lhe foi alocado. Temos então as seguintes restrições:"
   ]
  },
  {
   "cell_type": "markdown",
   "metadata": {},
   "source": [
    "a) Todos os pombos têm um poleiro entre $1$ e $N-1$:\n",
    "\n",
    "$$ 1 \\leqslant x_{i} \\leqslant N-1 $$\n",
    "\n",
    "b) Todos os pombos têm um poleiro diferente:\n",
    "\n",
    "$$ \\forall x_{i} \\quad x_{i} \\neq x_{j} , \\quad\\forall i \\neq j$$ "
   ]
  },
  {
   "cell_type": "markdown",
   "metadata": {},
   "source": [
    "Usando o z3:"
   ]
  },
  {
   "cell_type": "code",
   "execution_count": 13,
   "metadata": {},
   "outputs": [
    {
     "data": {
      "text/html": [
       "<b>unsat</b>"
      ],
      "text/plain": [
       "unsat"
      ]
     },
     "execution_count": 13,
     "metadata": {},
     "output_type": "execute_result"
    }
   ],
   "source": [
    "def phpLIL(n):\n",
    "    varProp = {x : Int(str(x)) for x in range(n)}\n",
    "    s = Solver()\n",
    "    s.push()\n",
    "    \n",
    "    # Todos os pombos têm um poleiro diferente b)\n",
    "    for i in range(len(varProp)-1):\n",
    "        s.add(varProp[i] < varProp[i+1])\n",
    "            \n",
    "    s.push()\n",
    "    \n",
    "    # Todos os pombos têm um poleiro entre 1 e N-1 a)\n",
    "    for x in varProp:\n",
    "        s.add(0 < varProp[x], varProp[x] <= (n-1))\n",
    "        \n",
    "    \n",
    "    return s.check()\n",
    "\n",
    "phpLIL(100)"
   ]
  },
  {
   "cell_type": "markdown",
   "metadata": {},
   "source": [
    "Uma alternativa a esta solução, usando também Lógica Inteira Linear, seria usar $N * (N-1)$ variáveis inteiras binárias, onde a variável $x_{i,j}$ determina se foi alocado o poleiro $j$ ao pombo $i$. Esta modelação permite-nos ter enormes ganhos de eficiência, pois facilita-nos a implementação das restrições acima descritas. Vejamos como estas serão \"traduzidas\":"
   ]
  },
  {
   "cell_type": "markdown",
   "metadata": {},
   "source": [
    "a) Todo o poleiro $j$ é alocado a um único pombo:\n",
    "\n",
    "$$\\sum_{i = 1}^{N} x_{i,j} = 1 $$"
   ]
  },
  {
   "cell_type": "markdown",
   "metadata": {},
   "source": [
    "b) Todo o pombo $i$ é alocado a um único poleiro:\n",
    "\n",
    "$$\\sum_{j = 1}^{N-1} x_{i,j} = 1 $$"
   ]
  },
  {
   "cell_type": "markdown",
   "metadata": {},
   "source": [
    "c) As variáveis são binárias, ou seja:\n",
    "\n",
    "$$ \\bigwedge_{i,j = 1}^{N,N-1} x_{i,j} = 1 \\vee x_{i,j} = 0 $$"
   ]
  },
  {
   "cell_type": "markdown",
   "metadata": {},
   "source": [
    "Posteriormente, usando o z3:"
   ]
  },
  {
   "cell_type": "code",
   "execution_count": 14,
   "metadata": {},
   "outputs": [
    {
     "data": {
      "text/html": [
       "<b>unsat</b>"
      ],
      "text/plain": [
       "unsat"
      ]
     },
     "execution_count": 14,
     "metadata": {},
     "output_type": "execute_result"
    }
   ],
   "source": [
    "def phpLILBin(n):\n",
    "    varProp = {}\n",
    "    s = Solver()\n",
    "    s.push()\n",
    "    \n",
    "    # As variáveis são binárias c)\n",
    "    for pombo in range(n):\n",
    "        varProp[pombo] = {}\n",
    "        for poleiro in range(n-1):\n",
    "            varProp[pombo][poleiro] = Int(str(pombo)+str(poleiro))\n",
    "            s.add(Or(0 == varProp[pombo][poleiro], 1 == varProp[pombo][poleiro]))\n",
    "            s.push()\n",
    "    \n",
    "    # Todo o pombo x é alocado a um único poleiro b)\n",
    "    for x in varProp.values():\n",
    "        p = list(x.values())\n",
    "        s.add(Sum(p) == 1)\n",
    "        s.push()\n",
    "    \n",
    "    # Todo o poleiro x é alocado a um único pombo a)\n",
    "    for x in range(n-1):\n",
    "        p = [varProp[z][x] for z in varProp]\n",
    "        s.add(Sum(p) == 1)\n",
    "        s.push()\n",
    "    \n",
    "    return s.check()\n",
    "\n",
    "phpLILBin(20)"
   ]
  },
  {
   "cell_type": "markdown",
   "metadata": {},
   "source": [
    "### Análise De Complexidade"
   ]
  },
  {
   "cell_type": "markdown",
   "metadata": {},
   "source": [
    "Analisemos então a Complexidade das nossas soluções:"
   ]
  },
  {
   "cell_type": "code",
   "execution_count": 15,
   "metadata": {},
   "outputs": [
    {
     "data": {
      "image/png": "[encoded data removed]",
      "text/plain": [
       "<Figure size 432x288 with 1 Axes>"
      ]
     },
     "metadata": {
      "needs_background": "light"
     },
     "output_type": "display_data"
    }
   ],
   "source": [
    "def timerLI(Nmax):\n",
    "    tests = [x for x in range(2,Nmax,10)]\n",
    "    testePlot(\"phpLILBin\",tests)\n",
    "    testePlot(\"phpLIL\",tests)\n",
    "    plt.ylabel('time')\n",
    "    plt.xlabel('N')\n",
    "    plt.title(\"Complexity Plot\")\n",
    "    plt.legend()\n",
    "    plt.show()\n",
    "\n",
    "timerLI(100)"
   ]
  },
  {
   "cell_type": "markdown",
   "metadata": {},
   "source": [
    "Ora, comparando ambas as soluções observamos que a função que implementa lógica inteira linear sem variáveis binárias é muito mais rápida que a função que implementa esta solução, devido ao facto de ter menos variáveis, o que faz com que o número de monómios do polinómio que representa o nosso problema seja menor na função ***phpLIL***. No entanto, este gráfico é enganador pois leva-nos a crer que a função ***phpLILBin*** tem complexidade exponencial e a função ***phpLIL*** não. Observando o gráfico seguinte, constata-se que tal não é verdade: "
   ]
  },
  {
   "cell_type": "code",
   "execution_count": 16,
   "metadata": {},
   "outputs": [
    {
     "data": {
      "image/png": "[encoded data removed]",
      "text/plain": [
       "<Figure size 432x288 with 1 Axes>"
      ]
     },
     "metadata": {
      "needs_background": "light"
     },
     "output_type": "display_data"
    }
   ],
   "source": [
    "def timerLIL(Nmax):\n",
    "    tests = [x for x in range(2,Nmax,100)]\n",
    "    testePlot(\"phpLIL\",tests)\n",
    "    plt.ylabel('time')\n",
    "    plt.xlabel('N')\n",
    "    plt.title(\"Complexity Plot\")\n",
    "    plt.legend()\n",
    "    plt.show()\n",
    "\n",
    "timerLIL(1000)"
   ]
  },
  {
   "cell_type": "markdown",
   "metadata": {},
   "source": [
    "## Versão SCIP"
   ]
  },
  {
   "cell_type": "markdown",
   "metadata": {},
   "source": [
    "De seguida apresentamos funções que não são nada mais do que \"traduções\" para SCIP das funções implementadas anteriormente em z3:"
   ]
  },
  {
   "cell_type": "code",
   "execution_count": 17,
   "metadata": {},
   "outputs": [
    {
     "name": "stderr",
     "output_type": "stream",
     "text": [
      "<ipython-input-17-e01948d1412a>:4: UserWarning: linked SCIP 7.0 is not recommended for this version of PySCIPOpt - use version 7.0.1\n",
      "  model = Model()\n"
     ]
    },
    {
     "data": {
      "text/plain": [
       "'infeasible'"
      ]
     },
     "execution_count": 17,
     "metadata": {},
     "output_type": "execute_result"
    }
   ],
   "source": [
    "from pyscipopt import Model\n",
    "\n",
    "def phpLILscip(n):\n",
    "    model = Model()\n",
    "    varProp = {}\n",
    "    \n",
    "    for i in range(n):\n",
    "        varProp[i] = model.addVar(str(i), vtype=\"INTEGER\")\n",
    "    \n",
    "    for i in range(n-1):\n",
    "        model.addCons(varProp[i]+1 <= varProp[i+1])\n",
    "    \n",
    "    for i in range(n):\n",
    "        model.addCons(1 <= varProp[i])\n",
    "        model.addCons(varProp[i] <= n-1)\n",
    "        \n",
    "    model.optimize()\n",
    "    \n",
    "    return model.getStatus()\n",
    "\n",
    "phpLILscip(3000)"
   ]
  },
  {
   "cell_type": "code",
   "execution_count": 18,
   "metadata": {},
   "outputs": [
    {
     "name": "stderr",
     "output_type": "stream",
     "text": [
      "<ipython-input-18-da342ad67639>:2: UserWarning: linked SCIP 7.0 is not recommended for this version of PySCIPOpt - use version 7.0.1\n",
      "  model = Model()\n"
     ]
    },
    {
     "data": {
      "text/plain": [
       "'infeasible'"
      ]
     },
     "execution_count": 18,
     "metadata": {},
     "output_type": "execute_result"
    }
   ],
   "source": [
    "def phpLILscipBin(n):\n",
    "    model = Model()\n",
    "    varProp = {}\n",
    "    \n",
    "    for i in range(n):\n",
    "        varProp[i] = {}\n",
    "        for j in range(n-1):\n",
    "            varProp[i][j] = model.addVar(str(i) + ' ' + str(j), vtype=\"INTEGER\")\n",
    "            model.addCons(0 <= varProp[i][j])\n",
    "            model.addCons(varProp[i][j] <= 1)\n",
    "    \n",
    "    for i in range(n):\n",
    "        x = list(varProp[i].values())\n",
    "        model.addCons(sum(x) == 1)\n",
    "    \n",
    "    for x in range(n-1):\n",
    "        p = [varProp[z][x] for z in varProp]\n",
    "        model.addCons(sum(p) == 1)\n",
    "\n",
    "    model.optimize()\n",
    "    \n",
    "    return model.getStatus()\n",
    "\n",
    "phpLILscipBin(100)"
   ]
  },
  {
   "cell_type": "markdown",
   "metadata": {},
   "source": [
    "### Análise de Complexidade"
   ]
  },
  {
   "cell_type": "code",
   "execution_count": 19,
   "metadata": {},
   "outputs": [
    {
     "name": "stderr",
     "output_type": "stream",
     "text": [
      "<ipython-input-17-e01948d1412a>:4: UserWarning: linked SCIP 7.0 is not recommended for this version of PySCIPOpt - use version 7.0.1\n",
      "  model = Model()\n",
      "<ipython-input-18-da342ad67639>:2: UserWarning: linked SCIP 7.0 is not recommended for this version of PySCIPOpt - use version 7.0.1\n",
      "  model = Model()\n"
     ]
    },
    {
     "data": {
      "image/png": "[encoded data removed]",
      "text/plain": [
       "<Figure size 432x288 with 1 Axes>"
      ]
     },
     "metadata": {
      "needs_background": "light"
     },
     "output_type": "display_data"
    }
   ],
   "source": [
    "def timerLIscip(Nmax):\n",
    "    tests = [x for x in range(2,Nmax,10)]\n",
    "    testePlot(\"phpLILscip\",tests)\n",
    "    testePlot(\"phpLILscipBin\",tests)\n",
    "    plt.ylabel('time')\n",
    "    plt.xlabel('N')\n",
    "    plt.title(\"Complexity Plot\")\n",
    "    plt.legend()\n",
    "    plt.show()\n",
    "\n",
    "timerLIscip(100)"
   ]
  },
  {
   "cell_type": "markdown",
   "metadata": {},
   "source": [
    "Observamos uma vez mais a diferença entre a velocidade de cada função e a complexidade exponencial da função ***phpLILscipBin***. Novamente, este gráfico é enganador:"
   ]
  },
  {
   "cell_type": "code",
   "execution_count": 22,
   "metadata": {},
   "outputs": [
    {
     "name": "stderr",
     "output_type": "stream",
     "text": [
      "<ipython-input-17-e01948d1412a>:4: UserWarning: linked SCIP 7.0 is not recommended for this version of PySCIPOpt - use version 7.0.1\n",
      "  model = Model()\n"
     ]
    },
    {
     "data": {
      "image/png": "[encoded data removed]",
      "text/plain": [
       "<Figure size 432x288 with 1 Axes>"
      ]
     },
     "metadata": {
      "needs_background": "light"
     },
     "output_type": "display_data"
    }
   ],
   "source": [
    "def timerLILscip(Nmax):\n",
    "    tests = [x for x in range(2,Nmax,1000)]\n",
    "    testePlot(\"phpLILscip\",tests)\n",
    "    plt.ylabel('time')\n",
    "    plt.xlabel('N')\n",
    "    plt.title(\"Complexity Plot\")\n",
    "    plt.legend()\n",
    "    plt.show()\n",
    "\n",
    "timerLILscip(10000)"
   ]
  }
 ],
 "metadata": {
  "kernelspec": {
   "display_name": "Python 3",
   "language": "python",
   "name": "python3"
  },
  "language_info": {
   "codemirror_mode": {
    "name": "ipython",
    "version": 3
   },
   "file_extension": ".py",
   "mimetype": "text/x-python",
   "name": "python",
   "nbconvert_exporter": "python",
   "pygments_lexer": "ipython3",
   "version": "3.8.3"
  }
 },
 "nbformat": 4,
 "nbformat_minor": 4
}
